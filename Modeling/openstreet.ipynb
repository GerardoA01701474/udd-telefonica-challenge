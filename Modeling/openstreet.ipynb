{
  "nbformat": 4,
  "nbformat_minor": 0,
  "metadata": {
    "colab": {
      "provenance": []
    },
    "kernelspec": {
      "name": "python3",
      "display_name": "Python 3"
    },
    "language_info": {
      "name": "python"
    }
  },
  "cells": [
    {
      "cell_type": "code",
      "execution_count": 66,
      "metadata": {
        "colab": {
          "base_uri": "https://localhost:8080/"
        },
        "id": "zaWUk7w9rZro",
        "outputId": "fc5fca5b-2bd3-478f-f434-58655f8f599b"
      },
      "outputs": [
        {
          "output_type": "stream",
          "name": "stdout",
          "text": [
            "Looking in indexes: https://pypi.org/simple, https://us-python.pkg.dev/colab-wheels/public/simple/\n",
            "Requirement already satisfied: osmapi in /usr/local/lib/python3.7/dist-packages (3.0.0)\n",
            "Requirement already satisfied: requests in /usr/local/lib/python3.7/dist-packages (from osmapi) (2.23.0)\n",
            "Requirement already satisfied: idna<3,>=2.5 in /usr/local/lib/python3.7/dist-packages (from requests->osmapi) (2.10)\n",
            "Requirement already satisfied: certifi>=2017.4.17 in /usr/local/lib/python3.7/dist-packages (from requests->osmapi) (2022.9.24)\n",
            "Requirement already satisfied: chardet<4,>=3.0.2 in /usr/local/lib/python3.7/dist-packages (from requests->osmapi) (3.0.4)\n",
            "Requirement already satisfied: urllib3!=1.25.0,!=1.25.1,<1.26,>=1.21.1 in /usr/local/lib/python3.7/dist-packages (from requests->osmapi) (1.24.3)\n"
          ]
        }
      ],
      "source": [
        "!pip install osmapi"
      ]
    },
    {
      "cell_type": "code",
      "source": [
        "from google.colab import drive\n",
        "\n",
        "drive.mount(\"/content/gdrive\")  \n",
        "!pwd  # show current path "
      ],
      "metadata": {
        "colab": {
          "base_uri": "https://localhost:8080/"
        },
        "id": "ICpIefWs9Wxn",
        "outputId": "75a75ea7-56e8-4701-c91e-0eae183840c5"
      },
      "execution_count": 67,
      "outputs": [
        {
          "output_type": "stream",
          "name": "stdout",
          "text": [
            "Drive already mounted at /content/gdrive; to attempt to forcibly remount, call drive.mount(\"/content/gdrive\", force_remount=True).\n",
            "/content/gdrive/My Drive/Reto2/datasets\n"
          ]
        }
      ]
    },
    {
      "cell_type": "code",
      "source": [
        "%cd \"/content/gdrive/MyDrive/Reto2/datasets\""
      ],
      "metadata": {
        "colab": {
          "base_uri": "https://localhost:8080/"
        },
        "id": "rC4zOAeT9aJz",
        "outputId": "0a38f171-d7ec-42e7-88af-09d304d4aaba"
      },
      "execution_count": 68,
      "outputs": [
        {
          "output_type": "stream",
          "name": "stdout",
          "text": [
            "/content/gdrive/MyDrive/Reto2/datasets\n"
          ]
        }
      ]
    },
    {
      "cell_type": "code",
      "source": [
        "import osmapi\n",
        "import pandas as pd\n",
        "import numpy as np \n",
        "api = osmapi.OsmApi()\n",
        "print(api.NodeGet(123))"
      ],
      "metadata": {
        "colab": {
          "base_uri": "https://localhost:8080/"
        },
        "id": "qz0f9Q0freEI",
        "outputId": "02314120-e20c-4764-b16b-57640fd8f12c"
      },
      "execution_count": 69,
      "outputs": [
        {
          "output_type": "stream",
          "name": "stdout",
          "text": [
            "{'id': 123, 'visible': True, 'version': 12, 'changeset': 124176968, 'timestamp': datetime.datetime(2022, 7, 28, 9, 47, 39), 'user': 'owene', 'uid': 29598, 'lat': 59.9503286, 'lon': 10.7899198, 'tag': {}}\n"
          ]
        }
      ]
    },
    {
      "cell_type": "code",
      "source": [
        "import requests\n",
        "import json\n",
        "overpass_url = \"http://overpass-api.de/api/interpreter\"\n",
        "# el area ISO3166-2 CL-RM corresponde a region metropolitana de Chile (https://www.openstreetmap.org/relation/198848)\n",
        "overpass_query = \"\"\"\n",
        "[out:json];\n",
        "area[\"ISO3166-2\"=\"CL-RM\"][admin_level=4];\n",
        "(node[\"amenity\"=\"restaurant\"](area);\n",
        " way[\"amenity\"=\"restaurant\"](area);\n",
        " rel[\"amenity\"=\"restaurant\"](area);\n",
        ");\n",
        "out center;\n",
        "\"\"\"\n",
        "response = requests.get(overpass_url, \n",
        "                        params={'data': overpass_query})\n",
        "data_restaurant = response.json()"
      ],
      "metadata": {
        "id": "xVBH1I8LrjEI"
      },
      "execution_count": 70,
      "outputs": []
    },
    {
      "cell_type": "code",
      "source": [
        "overpass_query = \"\"\"\n",
        "[out:json];\n",
        "area[\"ISO3166-2\"=\"CL-RM\"][admin_level=4];\n",
        "(node[\"amenity\"=\"hospital\"](area);\n",
        " way[\"amenity\"=\"hospital\"](area);\n",
        " rel[\"amenity\"=\"hospital\"](area);\n",
        ");\n",
        "out center;\n",
        "\"\"\"\n",
        "response = requests.get(overpass_url, \n",
        "                        params={'data': overpass_query})\n",
        "data_hospital = response.json()"
      ],
      "metadata": {
        "id": "MDas-MtNAtAh"
      },
      "execution_count": 71,
      "outputs": []
    },
    {
      "cell_type": "code",
      "source": [
        "overpass_query = \"\"\"\n",
        "[out:json];\n",
        "area[\"ISO3166-2\"=\"CL-RM\"][admin_level=4];\n",
        "(node[\"amenity\"=\"pub\"](area);\n",
        " way[\"amenity\"=\"pub\"](area);\n",
        " rel[\"amenity\"=\"pub\"](area);\n",
        ");\n",
        "out center;\n",
        "\"\"\"\n",
        "response = requests.get(overpass_url, \n",
        "                        params={'data': overpass_query})\n",
        "data_pub = response.json()"
      ],
      "metadata": {
        "id": "PB52Bj3zga43"
      },
      "execution_count": 72,
      "outputs": []
    },
    {
      "cell_type": "code",
      "source": [
        "overpass_query = \"\"\"\n",
        "[out:json];\n",
        "area[\"ISO3166-2\"=\"CL-RM\"][admin_level=4];\n",
        "(node[\"amenity\"=\"school\"](area);\n",
        " way[\"amenity\"=\"school\"](area);\n",
        " rel[\"amenity\"=\"school\"](area);\n",
        ");\n",
        "out center;\n",
        "\"\"\"\n",
        "response = requests.get(overpass_url, \n",
        "                        params={'data': overpass_query})\n",
        "data_school = response.json()"
      ],
      "metadata": {
        "id": "honcc0hBhEXB"
      },
      "execution_count": 73,
      "outputs": []
    },
    {
      "cell_type": "code",
      "source": [
        "# en caso de ser neceario usar las coordenadas de las antenas\n",
        "dataset_antena = pd.read_csv('bts_comuna.csv')\n",
        "lat_antena = list(dataset_antena['lat'])\n",
        "lon_antena = list(dataset_antena['lon'])\n",
        "# guardo las coordenadas de las anteas en coor_antena\n",
        "coor_antena = [None] * len(lat_antena)\n",
        "for i in range(len(lat_antena)):\n",
        "  coor_antena[i] = [None] * 2\n",
        "\n",
        "for i in range(len(lat_antena)):\n",
        "  coor_antena[i][0] = lon_antena[i]\n",
        "  coor_antena[i][1] = lat_antena[i]\n",
        "coor_antena\n",
        "coor_antena = np.array(coor_antena)\n"
      ],
      "metadata": {
        "id": "Vb5-6zrc9-i4"
      },
      "execution_count": 74,
      "outputs": []
    },
    {
      "cell_type": "code",
      "source": [
        "#obtenemos las coordenadas de los destinos de los viajes (hacia donde va la gente)\n",
        "dataset_full = pd.read_csv('trips.csv')\n",
        "\n",
        "dataset = dataset_full.sample(100)\n",
        "\n",
        "lat_trip = list(dataset['lat'])\n",
        "lon_trip = list(dataset['lon'])\n",
        "coor_trip = [None] * len(lat_trip)\n",
        "for i in range(len(lat_trip)): # creo una matriz vacía\n",
        "  coor_trip[i] = [None] * 2\n",
        "\n",
        "for i in range(len(lat_trip)): # lleno la matriz con las coordenadas\n",
        "  coor_trip[i][0] = lon_trip[i]\n",
        "  coor_trip[i][1] = lat_trip[i]\n",
        "\n",
        "coor_trip = np.array(coor_trip)\n"
      ],
      "metadata": {
        "id": "AXHeAKg3_1o2"
      },
      "execution_count": 75,
      "outputs": []
    },
    {
      "cell_type": "code",
      "source": [
        "import numpy as np\n",
        "import matplotlib.pyplot as plt\n",
        "# Lleno listas con las coordenas de interés\n",
        "coords_restaurant = []\n",
        "coords_hospital = []\n",
        "coords_pub = []\n",
        "coords_school = []\n",
        "\n",
        "for element in data_restaurant['elements']:\n",
        "  if element['type'] == 'node':\n",
        "    lon = element['lon']\n",
        "    lat = element['lat']\n",
        "    coords_restaurant.append((lon, lat))\n",
        "  elif 'center' in element:\n",
        "    lon = element['center']['lon']\n",
        "    lat = element['center']['lat']\n",
        "    coords_restaurant.append((lon, lat))\n",
        "\n",
        "for element in data_hospital['elements']:\n",
        "  if element['type'] == 'node':\n",
        "    lon = element['lon']\n",
        "    lat = element['lat']\n",
        "    coords_hospital.append((lon, lat))\n",
        "  elif 'center' in element:\n",
        "    lon = element['center']['lon']\n",
        "    lat = element['center']['lat']\n",
        "    coords_hospital.append((lon, lat))\n",
        "\n",
        "for element in data_pub['elements']:\n",
        "  if element['type'] == 'node':\n",
        "    lon = element['lon']\n",
        "    lat = element['lat']\n",
        "    coords_pub.append((lon, lat))\n",
        "  elif 'center' in element:\n",
        "    lon = element['center']['lon']\n",
        "    lat = element['center']['lat']\n",
        "    coords_pub.append((lon, lat))\n",
        "\n",
        "for element in data_school['elements']:\n",
        "  if element['type'] == 'node':\n",
        "    lon = element['lon']\n",
        "    lat = element['lat']\n",
        "    coords_school.append((lon, lat))\n",
        "  elif 'center' in element:\n",
        "    lon = element['center']['lon']\n",
        "    lat = element['center']['lat']\n",
        "    coords_school.append((lon, lat))\n",
        "\n",
        "# Pasar a un array de numpy\n",
        "restaurant = np.array(coords_restaurant)\n",
        "hospital = np.array(coords_hospital)\n",
        "pub = np.array(coords_pub)\n",
        "school = np.array(coords_school)\n",
        "\n",
        "#plt.plot(restaurant[:, 0], restaurant[:, 1], '*') \n",
        "plt.plot(coor_trip[:, 0], coor_trip[:, 1], '.',label ='Personas')\n",
        "plt.plot(pub[:, 0], pub[:, 1], '+',label ='bares') \n",
        "plt.plot(hospital[:, 0], hospital[:, 1], '*',label ='hospitales')\n",
        "#plt.plot(school[:, 0], school[:, 1], '*') \n",
        "plt.title('Fluencia de personas comparado con locaciones de bares y hospitales')\n",
        "plt.legend()\n",
        "plt.xlabel('Longitude')\n",
        "plt.ylabel('Latitude')\n",
        "plt.axis('equal')\n",
        "plt.show()"
      ],
      "metadata": {
        "colab": {
          "base_uri": "https://localhost:8080/",
          "height": 295
        },
        "id": "TBNYkXbnUBWp",
        "outputId": "b102487d-c76b-4fab-b602-6b912a9d7a8d"
      },
      "execution_count": 76,
      "outputs": [
        {
          "output_type": "display_data",
          "data": {
            "text/plain": [
              "<Figure size 432x288 with 1 Axes>"
            ],
            "image/png": "[encoded data removed]"
          },
          "metadata": {
            "needs_background": "light"
          }
        }
      ]
    },
    {
      "cell_type": "code",
      "source": [
        "len(dataset)"
      ],
      "metadata": {
        "colab": {
          "base_uri": "https://localhost:8080/"
        },
        "id": "zjuXsYPuXaRS",
        "outputId": "7d9a84f2-9f02-4c9f-b93d-9276281bc951"
      },
      "execution_count": 77,
      "outputs": [
        {
          "output_type": "execute_result",
          "data": {
            "text/plain": [
              "100"
            ]
          },
          "metadata": {},
          "execution_count": 77
        }
      ]
    },
    {
      "cell_type": "code",
      "source": [],
      "metadata": {
        "id": "vnbJivuJqFaX"
      },
      "execution_count": 77,
      "outputs": []
    }
  ]
}