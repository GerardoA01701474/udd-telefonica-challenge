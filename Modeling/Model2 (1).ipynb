{
  "nbformat": 4,
  "nbformat_minor": 0,
  "metadata": {
    "colab": {
      "provenance": []
    },
    "kernelspec": {
      "name": "python3",
      "display_name": "Python 3"
    },
    "language_info": {
      "name": "python"
    }
  },
  "cells": [
    {
      "cell_type": "code",
      "execution_count": 1,
      "metadata": {
        "colab": {
          "base_uri": "https://localhost:8080/"
        },
        "id": "OY0_ig6xjEqS",
        "outputId": "beb4ae05-bdb0-458c-a3f9-76fa372e4b12"
      },
      "outputs": [
        {
          "output_type": "stream",
          "name": "stdout",
          "text": [
            "Mounted at /content/gdrive\n",
            "/content\n",
            "/content/gdrive/MyDrive/Reto2/datasets\n"
          ]
        }
      ],
      "source": [
        "from google.colab import drive\n",
        "\n",
        "drive.mount(\"/content/gdrive\")  \n",
        "!pwd  # show current path \n",
        "%cd \"/content/gdrive/MyDrive/Reto2/datasets\""
      ]
    },
    {
      "cell_type": "markdown",
      "source": [
        "# Modelo de regresion logistica usando sklearn"
      ],
      "metadata": {
        "id": "dudlLmQZrO6e"
      }
    },
    {
      "cell_type": "code",
      "source": [
        "import numpy as np\n",
        "import pandas as pd\n",
        "import matplotlib.pyplot as plt\n",
        "from sklearn import preprocessing, svm\n",
        "from sklearn.preprocessing import MaxAbsScaler\n",
        "from sklearn.linear_model import LogisticRegression, Ridge, Lasso\n",
        "from sklearn.model_selection import train_test_split, cross_val_score, learning_curve\n",
        "from sklearn.metrics import accuracy_score\n",
        "from sklearn.metrics import explained_variance_score, mean_squared_error, confusion_matrix"
      ],
      "metadata": {
        "id": "Up6nCn6-jNUX"
      },
      "execution_count": 2,
      "outputs": []
    },
    {
      "cell_type": "code",
      "source": [
        "dataset_full = pd.read_csv('trips2.csv')\n",
        "comunas_origin = dataset_full['origin']\n",
        "comunas_origin = pd.get_dummies(comunas_origin)\n",
        "dataset_full = dataset_full.join(comunas_origin)\n",
        "dataset_full = dataset_full.drop(['Unnamed: 0','lon','lat','origin'], axis=1)"
      ],
      "metadata": {
        "id": "1j6IpZa5jNn4"
      },
      "execution_count": 39,
      "outputs": []
    },
    {
      "cell_type": "code",
      "source": [
        "df_x = dataset_full.loc[:, dataset_full.columns != 'destination']\n",
        "\n",
        "df_y = dataset_full[\"destination\"]\n",
        "\n",
        " ########################### separación de los datos y entrenamiento del modelo ###############################\n",
        "Xtrain, Xtest, ytrain, ytest = train_test_split(df_x.values, df_y.values,random_state=1)\n",
        "model = LogisticRegression(fit_intercept = True)\n",
        "model.fit(Xtrain,ytrain)\n",
        "pred_y = model.predict(Xtest)\n",
        "acc = accuracy_score(ytest, pred_y)"
      ],
      "metadata": {
        "id": "2HyuIBO3jXYs"
      },
      "execution_count": null,
      "outputs": []
    },
    {
      "cell_type": "code",
      "source": [
        "########################## accuracy ########################\n",
        "print(\"accuracy of the model: \"+ str(acc))\n"
      ],
      "metadata": {
        "colab": {
          "base_uri": "https://localhost:8080/"
        },
        "id": "ERhe-BkhuYUM",
        "outputId": "e92c8dc8-7685-4a86-c2aa-a5f24594b1b7"
      },
      "execution_count": null,
      "outputs": [
        {
          "output_type": "stream",
          "name": "stdout",
          "text": [
            "accuracy of the model: 0.06548930373466055\n"
          ]
        }
      ]
    },
    {
      "cell_type": "markdown",
      "source": [
        "# Modelo random forest Tensorflow"
      ],
      "metadata": {
        "id": "xpgMkthirJTd"
      }
    },
    {
      "cell_type": "code",
      "source": [
        "# Install TensorFlow Decision Forests\n",
        "!pip install tensorflow_decision_forests"
      ],
      "metadata": {
        "id": "ceVgHIxmv-wQ",
        "colab": {
          "base_uri": "https://localhost:8080/"
        },
        "outputId": "312ed791-be46-42e4-e5bd-0208120b0576"
      },
      "execution_count": 3,
      "outputs": [
        {
          "output_type": "stream",
          "name": "stdout",
          "text": [
            "Looking in indexes: https://pypi.org/simple, https://us-python.pkg.dev/colab-wheels/public/simple/\n",
            "Collecting tensorflow_decision_forests\n",
            "  Downloading tensorflow_decision_forests-1.1.0-cp37-cp37m-manylinux_2_17_x86_64.manylinux2014_x86_64.whl (16.2 MB)\n",
            "\u001b[K     |████████████████████████████████| 16.2 MB 38.9 MB/s \n",
            "\u001b[?25hRequirement already satisfied: six in /usr/local/lib/python3.7/dist-packages (from tensorflow_decision_forests) (1.15.0)\n",
            "Collecting tensorflow~=2.11.0\n",
            "  Downloading tensorflow-2.11.0-cp37-cp37m-manylinux_2_17_x86_64.manylinux2014_x86_64.whl (588.3 MB)\n",
            "\u001b[K     |████████████████████████████████| 588.3 MB 7.4 kB/s \n",
            "\u001b[?25hRequirement already satisfied: wheel in /usr/local/lib/python3.7/dist-packages (from tensorflow_decision_forests) (0.38.3)\n",
            "Requirement already satisfied: numpy in /usr/local/lib/python3.7/dist-packages (from tensorflow_decision_forests) (1.21.6)\n",
            "Requirement already satisfied: absl-py in /usr/local/lib/python3.7/dist-packages (from tensorflow_decision_forests) (1.3.0)\n",
            "Requirement already satisfied: pandas in /usr/local/lib/python3.7/dist-packages (from tensorflow_decision_forests) (1.3.5)\n",
            "Collecting wurlitzer\n",
            "  Downloading wurlitzer-3.0.2-py3-none-any.whl (7.3 kB)\n",
            "Requirement already satisfied: setuptools in /usr/local/lib/python3.7/dist-packages (from tensorflow~=2.11.0->tensorflow_decision_forests) (57.4.0)\n",
            "Collecting tensorflow-estimator<2.12,>=2.11.0\n",
            "  Downloading tensorflow_estimator-2.11.0-py2.py3-none-any.whl (439 kB)\n",
            "\u001b[K     |████████████████████████████████| 439 kB 69.7 MB/s \n",
            "\u001b[?25hRequirement already satisfied: gast<=0.4.0,>=0.2.1 in /usr/local/lib/python3.7/dist-packages (from tensorflow~=2.11.0->tensorflow_decision_forests) (0.4.0)\n",
            "Requirement already satisfied: typing-extensions>=3.6.6 in /usr/local/lib/python3.7/dist-packages (from tensorflow~=2.11.0->tensorflow_decision_forests) (4.1.1)\n",
            "Requirement already satisfied: google-pasta>=0.1.1 in /usr/local/lib/python3.7/dist-packages (from tensorflow~=2.11.0->tensorflow_decision_forests) (0.2.0)\n",
            "Requirement already satisfied: wrapt>=1.11.0 in /usr/local/lib/python3.7/dist-packages (from tensorflow~=2.11.0->tensorflow_decision_forests) (1.14.1)\n",
            "Requirement already satisfied: termcolor>=1.1.0 in /usr/local/lib/python3.7/dist-packages (from tensorflow~=2.11.0->tensorflow_decision_forests) (2.1.0)\n",
            "Requirement already satisfied: libclang>=13.0.0 in /usr/local/lib/python3.7/dist-packages (from tensorflow~=2.11.0->tensorflow_decision_forests) (14.0.6)\n",
            "Collecting tensorboard<2.12,>=2.11\n",
            "  Downloading tensorboard-2.11.0-py3-none-any.whl (6.0 MB)\n",
            "\u001b[K     |████████████████████████████████| 6.0 MB 51.5 MB/s \n",
            "\u001b[?25hCollecting flatbuffers>=2.0\n",
            "  Downloading flatbuffers-22.10.26-py2.py3-none-any.whl (26 kB)\n",
            "Requirement already satisfied: astunparse>=1.6.0 in /usr/local/lib/python3.7/dist-packages (from tensorflow~=2.11.0->tensorflow_decision_forests) (1.6.3)\n",
            "Requirement already satisfied: h5py>=2.9.0 in /usr/local/lib/python3.7/dist-packages (from tensorflow~=2.11.0->tensorflow_decision_forests) (3.1.0)\n",
            "Requirement already satisfied: packaging in /usr/local/lib/python3.7/dist-packages (from tensorflow~=2.11.0->tensorflow_decision_forests) (21.3)\n",
            "Requirement already satisfied: tensorflow-io-gcs-filesystem>=0.23.1 in /usr/local/lib/python3.7/dist-packages (from tensorflow~=2.11.0->tensorflow_decision_forests) (0.27.0)\n",
            "Requirement already satisfied: protobuf<3.20,>=3.9.2 in /usr/local/lib/python3.7/dist-packages (from tensorflow~=2.11.0->tensorflow_decision_forests) (3.19.6)\n",
            "Requirement already satisfied: opt-einsum>=2.3.2 in /usr/local/lib/python3.7/dist-packages (from tensorflow~=2.11.0->tensorflow_decision_forests) (3.3.0)\n",
            "Collecting keras<2.12,>=2.11.0\n",
            "  Downloading keras-2.11.0-py2.py3-none-any.whl (1.7 MB)\n",
            "\u001b[K     |████████████████████████████████| 1.7 MB 66.2 MB/s \n",
            "\u001b[?25hRequirement already satisfied: grpcio<2.0,>=1.24.3 in /usr/local/lib/python3.7/dist-packages (from tensorflow~=2.11.0->tensorflow_decision_forests) (1.50.0)\n",
            "Requirement already satisfied: cached-property in /usr/local/lib/python3.7/dist-packages (from h5py>=2.9.0->tensorflow~=2.11.0->tensorflow_decision_forests) (1.5.2)\n",
            "Requirement already satisfied: markdown>=2.6.8 in /usr/local/lib/python3.7/dist-packages (from tensorboard<2.12,>=2.11->tensorflow~=2.11.0->tensorflow_decision_forests) (3.4.1)\n",
            "Requirement already satisfied: tensorboard-data-server<0.7.0,>=0.6.0 in /usr/local/lib/python3.7/dist-packages (from tensorboard<2.12,>=2.11->tensorflow~=2.11.0->tensorflow_decision_forests) (0.6.1)\n",
            "Requirement already satisfied: requests<3,>=2.21.0 in /usr/local/lib/python3.7/dist-packages (from tensorboard<2.12,>=2.11->tensorflow~=2.11.0->tensorflow_decision_forests) (2.23.0)\n",
            "Requirement already satisfied: google-auth<3,>=1.6.3 in /usr/local/lib/python3.7/dist-packages (from tensorboard<2.12,>=2.11->tensorflow~=2.11.0->tensorflow_decision_forests) (2.14.1)\n",
            "Requirement already satisfied: tensorboard-plugin-wit>=1.6.0 in /usr/local/lib/python3.7/dist-packages (from tensorboard<2.12,>=2.11->tensorflow~=2.11.0->tensorflow_decision_forests) (1.8.1)\n",
            "Requirement already satisfied: werkzeug>=1.0.1 in /usr/local/lib/python3.7/dist-packages (from tensorboard<2.12,>=2.11->tensorflow~=2.11.0->tensorflow_decision_forests) (1.0.1)\n",
            "Requirement already satisfied: google-auth-oauthlib<0.5,>=0.4.1 in /usr/local/lib/python3.7/dist-packages (from tensorboard<2.12,>=2.11->tensorflow~=2.11.0->tensorflow_decision_forests) (0.4.6)\n",
            "Requirement already satisfied: cachetools<6.0,>=2.0.0 in /usr/local/lib/python3.7/dist-packages (from google-auth<3,>=1.6.3->tensorboard<2.12,>=2.11->tensorflow~=2.11.0->tensorflow_decision_forests) (5.2.0)\n",
            "Requirement already satisfied: rsa<5,>=3.1.4 in /usr/local/lib/python3.7/dist-packages (from google-auth<3,>=1.6.3->tensorboard<2.12,>=2.11->tensorflow~=2.11.0->tensorflow_decision_forests) (4.9)\n",
            "Requirement already satisfied: pyasn1-modules>=0.2.1 in /usr/local/lib/python3.7/dist-packages (from google-auth<3,>=1.6.3->tensorboard<2.12,>=2.11->tensorflow~=2.11.0->tensorflow_decision_forests) (0.2.8)\n",
            "Requirement already satisfied: requests-oauthlib>=0.7.0 in /usr/local/lib/python3.7/dist-packages (from google-auth-oauthlib<0.5,>=0.4.1->tensorboard<2.12,>=2.11->tensorflow~=2.11.0->tensorflow_decision_forests) (1.3.1)\n",
            "Requirement already satisfied: importlib-metadata>=4.4 in /usr/local/lib/python3.7/dist-packages (from markdown>=2.6.8->tensorboard<2.12,>=2.11->tensorflow~=2.11.0->tensorflow_decision_forests) (4.13.0)\n",
            "Requirement already satisfied: zipp>=0.5 in /usr/local/lib/python3.7/dist-packages (from importlib-metadata>=4.4->markdown>=2.6.8->tensorboard<2.12,>=2.11->tensorflow~=2.11.0->tensorflow_decision_forests) (3.10.0)\n",
            "Requirement already satisfied: pyasn1<0.5.0,>=0.4.6 in /usr/local/lib/python3.7/dist-packages (from pyasn1-modules>=0.2.1->google-auth<3,>=1.6.3->tensorboard<2.12,>=2.11->tensorflow~=2.11.0->tensorflow_decision_forests) (0.4.8)\n",
            "Requirement already satisfied: certifi>=2017.4.17 in /usr/local/lib/python3.7/dist-packages (from requests<3,>=2.21.0->tensorboard<2.12,>=2.11->tensorflow~=2.11.0->tensorflow_decision_forests) (2022.9.24)\n",
            "Requirement already satisfied: idna<3,>=2.5 in /usr/local/lib/python3.7/dist-packages (from requests<3,>=2.21.0->tensorboard<2.12,>=2.11->tensorflow~=2.11.0->tensorflow_decision_forests) (2.10)\n",
            "Requirement already satisfied: urllib3!=1.25.0,!=1.25.1,<1.26,>=1.21.1 in /usr/local/lib/python3.7/dist-packages (from requests<3,>=2.21.0->tensorboard<2.12,>=2.11->tensorflow~=2.11.0->tensorflow_decision_forests) (1.24.3)\n",
            "Requirement already satisfied: chardet<4,>=3.0.2 in /usr/local/lib/python3.7/dist-packages (from requests<3,>=2.21.0->tensorboard<2.12,>=2.11->tensorflow~=2.11.0->tensorflow_decision_forests) (3.0.4)\n",
            "Requirement already satisfied: oauthlib>=3.0.0 in /usr/local/lib/python3.7/dist-packages (from requests-oauthlib>=0.7.0->google-auth-oauthlib<0.5,>=0.4.1->tensorboard<2.12,>=2.11->tensorflow~=2.11.0->tensorflow_decision_forests) (3.2.2)\n",
            "Requirement already satisfied: pyparsing!=3.0.5,>=2.0.2 in /usr/local/lib/python3.7/dist-packages (from packaging->tensorflow~=2.11.0->tensorflow_decision_forests) (3.0.9)\n",
            "Requirement already satisfied: python-dateutil>=2.7.3 in /usr/local/lib/python3.7/dist-packages (from pandas->tensorflow_decision_forests) (2.8.2)\n",
            "Requirement already satisfied: pytz>=2017.3 in /usr/local/lib/python3.7/dist-packages (from pandas->tensorflow_decision_forests) (2022.6)\n",
            "Installing collected packages: tensorflow-estimator, tensorboard, keras, flatbuffers, wurlitzer, tensorflow, tensorflow-decision-forests\n",
            "  Attempting uninstall: tensorflow-estimator\n",
            "    Found existing installation: tensorflow-estimator 2.9.0\n",
            "    Uninstalling tensorflow-estimator-2.9.0:\n",
            "      Successfully uninstalled tensorflow-estimator-2.9.0\n",
            "  Attempting uninstall: tensorboard\n",
            "    Found existing installation: tensorboard 2.9.1\n",
            "    Uninstalling tensorboard-2.9.1:\n",
            "      Successfully uninstalled tensorboard-2.9.1\n",
            "  Attempting uninstall: keras\n",
            "    Found existing installation: keras 2.9.0\n",
            "    Uninstalling keras-2.9.0:\n",
            "      Successfully uninstalled keras-2.9.0\n",
            "  Attempting uninstall: flatbuffers\n",
            "    Found existing installation: flatbuffers 1.12\n",
            "    Uninstalling flatbuffers-1.12:\n",
            "      Successfully uninstalled flatbuffers-1.12\n",
            "  Attempting uninstall: tensorflow\n",
            "    Found existing installation: tensorflow 2.9.2\n",
            "    Uninstalling tensorflow-2.9.2:\n",
            "      Successfully uninstalled tensorflow-2.9.2\n",
            "Successfully installed flatbuffers-22.10.26 keras-2.11.0 tensorboard-2.11.0 tensorflow-2.11.0 tensorflow-decision-forests-1.1.0 tensorflow-estimator-2.11.0 wurlitzer-3.0.2\n"
          ]
        }
      ]
    },
    {
      "cell_type": "code",
      "source": [
        "columnas = ['destination', 'start_time', 'end_time', '0', 'ALHUÉ', 'BUIN',\n",
        "       'CALERA DE TANGO', 'CERRILLOS', 'CERRO NAVIA', 'COLINA', 'CONCHALÍ',\n",
        "       'CURACAVÍ', 'EL BOSQUE', 'EL MONTE', 'ESTACIÓN CENTRAL', 'HUECHURABA',\n",
        "       'INDEPENDENCIA', 'ISLA DE MAIPO', 'LA CISTERNA', 'LA FLORIDA',\n",
        "       'LA GRANJA', 'LA PINTANA', 'LA REINA', 'LAMPA', 'LAS CONDES',\n",
        "       'LO BARNECHEA', 'LO ESPEJO', 'LO PRADO', 'MACUL', 'MAIPÚ',\n",
        "       'MARÍA PINTO', 'MELIPILLA', 'PADRE HURTADO', 'PAINE',\n",
        "       'PEDRO AGUIRRE CERDA', 'PEÑAFLOR', 'PEÑALOLÉN', 'PIRQUE', 'PROVIDENCIA',\n",
        "       'PUDAHUEL', 'PUENTE ALTO', 'QUILICURA', 'QUINTA NORMAL', 'RECOLETA',\n",
        "       'RENCA', 'SAN BERNARDO', 'SAN JOAQUÍN', 'SAN JOSÉ DE MAIPO',\n",
        "       'SAN MIGUEL', 'SAN PEDRO', 'SAN RAMÓN', 'SANTIAGO', 'TALAGANTE',\n",
        "       'TILTIL', 'VITACURA', 'ÑUÑOA']"
      ],
      "metadata": {
        "id": "Ni33u-gu1vNH"
      },
      "execution_count": 4,
      "outputs": []
    },
    {
      "cell_type": "code",
      "source": [
        "import tensorflow_decision_forests as tfdf # Load TensorFlow Decision Forests\n",
        "\n",
        "# Load the training dataset using pandas\n",
        "import pandas as pd\n",
        "\n",
        "dataset_full = pd.read_csv('trips2.csv')\n",
        "dataset_full = dataset_full.sample(50000)\n",
        "comunas_origin = dataset_full['origin']\n",
        "comunas_origin = pd.get_dummies(comunas_origin)\n",
        "dataset_full = dataset_full.join(comunas_origin)\n",
        "dataset_full = dataset_full.drop(['Unnamed: 0','lon','lat','origin'], axis=1)\n",
        "\n",
        "train_df,test_df = train_test_split(dataset_full.values,random_state=42)\n",
        "\n",
        "#### como la funcion anterior nos devuelve un np array, lo regreso a datafram\n",
        "train_df = pd.DataFrame(train_df)\n",
        "test_df = pd.DataFrame(test_df)\n",
        "## les devuelvo los nombres de las columnas (se perdieron al volverse np_array)\n",
        "train_df.columns = columnas\n",
        "test_df.columns = columnas\n",
        "\n",
        "\n",
        "# Convert the pandas dataframe into a TensorFlow dataset\n",
        "train_ds = tfdf.keras.pd_dataframe_to_tf_dataset(train_df, label=\"destination\")\n",
        "  \n",
        "# Train the model\n",
        "model = tfdf.keras.RandomForestModel()\n",
        "model.fit(train_ds)"
      ],
      "metadata": {
        "colab": {
          "base_uri": "https://localhost:8080/"
        },
        "id": "le3Yib4cjY7a",
        "outputId": "2a2cec50-7029-4127-f42d-54687e161317"
      },
      "execution_count": 8,
      "outputs": [
        {
          "output_type": "stream",
          "name": "stdout",
          "text": [
            "Warning: Some of the feature names have been changed automatically to be compatible with SavedModels because fix_feature_names=True.\n"
          ]
        },
        {
          "output_type": "stream",
          "name": "stderr",
          "text": [
            "WARNING:absl:Some of the feature names have been changed automatically to be compatible with SavedModels because fix_feature_names=True.\n"
          ]
        },
        {
          "output_type": "stream",
          "name": "stdout",
          "text": [
            "Use /tmp/tmpbbe588ru as temporary training directory\n",
            "Reading training dataset...\n",
            "Training dataset read in 0:00:01.251060. Found 37500 examples.\n",
            "Training model...\n",
            "Model trained in 0:01:30.413910\n",
            "Compiling model...\n",
            "Model compiled.\n"
          ]
        },
        {
          "output_type": "execute_result",
          "data": {
            "text/plain": [
              "<keras.callbacks.History at 0x7f1fe444f9d0>"
            ]
          },
          "metadata": {},
          "execution_count": 8
        }
      ]
    },
    {
      "cell_type": "code",
      "source": [
        "# Load the testing dataset\n",
        "# Convert it to a TensorFlow dataset\n",
        "test_ds = tfdf.keras.pd_dataframe_to_tf_dataset(test_df, label=\"destination\")\n",
        "\n",
        "# Evaluate the model\n",
        "model.compile(metrics=[\"accuracy\",'sparse_categorical_crossentropy'])\n",
        "print('accuracy_test: '+ str(model.evaluate(test_ds)))\n",
        "print('accuracy_train: '+ str(model.evaluate(train_ds)))"
      ],
      "metadata": {
        "id": "ae2-UzPGpsrB",
        "colab": {
          "base_uri": "https://localhost:8080/"
        },
        "outputId": "25e21c28-f195-452c-9a5d-351a1a748986"
      },
      "execution_count": 9,
      "outputs": [
        {
          "output_type": "stream",
          "name": "stdout",
          "text": [
            "Warning: Some of the feature names have been changed automatically to be compatible with SavedModels because fix_feature_names=True.\n"
          ]
        },
        {
          "output_type": "stream",
          "name": "stderr",
          "text": [
            "WARNING:absl:Some of the feature names have been changed automatically to be compatible with SavedModels because fix_feature_names=True.\n"
          ]
        },
        {
          "output_type": "stream",
          "name": "stdout",
          "text": [
            "13/13 [==============================] - 1s 87ms/step - loss: 0.0000e+00 - accuracy: 0.5868 - sparse_categorical_crossentropy: 4.2150\n",
            "accuracy_test: [0.0, 0.5867999792098999, 4.215045928955078]\n",
            "38/38 [==============================] - 4s 92ms/step - loss: 0.0000e+00 - accuracy: 0.5958 - sparse_categorical_crossentropy: 3.2725\n",
            "accuracy_train: [0.0, 0.5958133339881897, 3.272456169128418]\n"
          ]
        }
      ]
    },
    {
      "cell_type": "code",
      "source": [
        "model.summary()"
      ],
      "metadata": {
        "id": "Ge9c8im79mW7",
        "colab": {
          "base_uri": "https://localhost:8080/"
        },
        "outputId": "9490ccdc-9113-4334-deb6-cdab06502bcf"
      },
      "execution_count": null,
      "outputs": [
        {
          "output_type": "stream",
          "name": "stdout",
          "text": [
            "Model: \"random_forest_model\"\n",
            "_________________________________________________________________\n",
            " Layer (type)                Output Shape              Param #   \n",
            "=================================================================\n",
            "=================================================================\n",
            "Total params: 1\n",
            "Trainable params: 0\n",
            "Non-trainable params: 1\n",
            "_________________________________________________________________\n",
            "Type: \"RANDOM_FOREST\"\n",
            "Task: CLASSIFICATION\n",
            "Label: \"__LABEL\"\n",
            "\n",
            "Input Features (55):\n",
            "\t0\n",
            "\tALHUÉ\n",
            "\tBUIN\n",
            "\tCALERA_DE_TANGO\n",
            "\tCERRILLOS\n",
            "\tCERRO_NAVIA\n",
            "\tCOLINA\n",
            "\tCONCHALÍ\n",
            "\tCURACAVÍ\n",
            "\tEL_BOSQUE\n",
            "\tEL_MONTE\n",
            "\tESTACIÓN_CENTRAL\n",
            "\tHUECHURABA\n",
            "\tINDEPENDENCIA\n",
            "\tISLA_DE_MAIPO\n",
            "\tLAMPA\n",
            "\tLAS_CONDES\n",
            "\tLA_CISTERNA\n",
            "\tLA_FLORIDA\n",
            "\tLA_GRANJA\n",
            "\tLA_PINTANA\n",
            "\tLA_REINA\n",
            "\tLO_BARNECHEA\n",
            "\tLO_ESPEJO\n",
            "\tLO_PRADO\n",
            "\tMACUL\n",
            "\tMAIPÚ\n",
            "\tMARÍA_PINTO\n",
            "\tMELIPILLA\n",
            "\tPADRE_HURTADO\n",
            "\tPAINE\n",
            "\tPEDRO_AGUIRRE_CERDA\n",
            "\tPEÑAFLOR\n",
            "\tPEÑALOLÉN\n",
            "\tPIRQUE\n",
            "\tPROVIDENCIA\n",
            "\tPUDAHUEL\n",
            "\tPUENTE_ALTO\n",
            "\tQUILICURA\n",
            "\tQUINTA_NORMAL\n",
            "\tRECOLETA\n",
            "\tRENCA\n",
            "\tSANTIAGO\n",
            "\tSAN_BERNARDO\n",
            "\tSAN_JOAQUÍN\n",
            "\tSAN_JOSÉ_DE_MAIPO\n",
            "\tSAN_MIGUEL\n",
            "\tSAN_PEDRO\n",
            "\tSAN_RAMÓN\n",
            "\tTALAGANTE\n",
            "\tTILTIL\n",
            "\tVITACURA\n",
            "\tend_time\n",
            "\tstart_time\n",
            "\tÑUÑOA\n",
            "\n",
            "No weights\n",
            "\n",
            "Variable Importance: MEAN_MIN_DEPTH:\n",
            "    1.                   \"0\" 12.168080 ################\n",
            "    2.              \"ALHUÉ\" 12.168080 ################\n",
            "    3.     \"CALERA_DE_TANGO\" 12.168080 ################\n",
            "    4.           \"CERRILLOS\" 12.168080 ################\n",
            "    5.            \"EL_MONTE\" 12.168080 ################\n",
            "    6.       \"INDEPENDENCIA\" 12.168080 ################\n",
            "    7.       \"ISLA_DE_MAIPO\" 12.168080 ################\n",
            "    8.           \"LA_GRANJA\" 12.168080 ################\n",
            "    9.           \"LO_ESPEJO\" 12.168080 ################\n",
            "   10.            \"LO_PRADO\" 12.168080 ################\n",
            "   11.        \"MARÍA_PINTO\" 12.168080 ################\n",
            "   12. \"PEDRO_AGUIRRE_CERDA\" 12.168080 ################\n",
            "   13.              \"PIRQUE\" 12.168080 ################\n",
            "   14.        \"SAN_JOAQUÍN\" 12.168080 ################\n",
            "   15.  \"SAN_JOSÉ_DE_MAIPO\" 12.168080 ################\n",
            "   16.           \"SAN_PEDRO\" 12.168080 ################\n",
            "   17.           \"TALAGANTE\" 12.168080 ################\n",
            "   18.              \"TILTIL\" 12.168080 ################\n",
            "   19.             \"__LABEL\" 12.168080 ################\n",
            "   20.          \"SAN_RAMÓN\" 12.166945 ###############\n",
            "   21.       \"PADRE_HURTADO\" 12.166096 ###############\n",
            "   22.           \"CURACAVÍ\" 12.165959 ###############\n",
            "   23.           \"CONCHALÍ\" 12.165518 ###############\n",
            "   24.          \"LA_PINTANA\" 12.163912 ###############\n",
            "   25.         \"CERRO_NAVIA\" 12.162024 ###############\n",
            "   26.               \"LAMPA\" 12.157130 ###############\n",
            "   27.         \"LA_CISTERNA\" 12.152850 ###############\n",
            "   28.                \"BUIN\" 12.144145 ###############\n",
            "   29.               \"MACUL\" 12.111131 ###############\n",
            "   30.          \"SAN_MIGUEL\" 12.092014 ###############\n",
            "   31.           \"EL_BOSQUE\" 12.070689 ###############\n",
            "   32.           \"PEÑAFLOR\" 12.019371 ###############\n",
            "   33.               \"RENCA\" 11.869853 ###############\n",
            "   34.          \"HUECHURABA\" 11.830144 ###############\n",
            "   35.               \"PAINE\" 11.820304 ###############\n",
            "   36.       \"QUINTA_NORMAL\" 11.745811 ###############\n",
            "   37.   \"ESTACIÓN_CENTRAL\" 11.641078 ##############\n",
            "   38.            \"LA_REINA\" 11.623981 ##############\n",
            "   39.            \"RECOLETA\" 11.519301 ##############\n",
            "   40.            \"VITACURA\" 11.344851 ##############\n",
            "   41.           \"QUILICURA\" 11.312820 ##############\n",
            "   42.         \"PROVIDENCIA\" 10.584243 ############\n",
            "   43.        \"LO_BARNECHEA\" 10.540351 ############\n",
            "   44.             \"ÑUÑOA\" 10.530013 ############\n",
            "   45.            \"PUDAHUEL\" 10.468255 ############\n",
            "   46.         \"PEÑALOLÉN\"  9.163803 #########\n",
            "   47.           \"MELIPILLA\"  9.137947 ########\n",
            "   48.          \"LA_FLORIDA\"  8.850967 ########\n",
            "   49.        \"SAN_BERNARDO\"  8.824958 ########\n",
            "   50.              \"COLINA\"  8.634623 #######\n",
            "   51.            \"SANTIAGO\"  7.371753 ####\n",
            "   52.          \"LAS_CONDES\"  7.172253 ####\n",
            "   53.              \"MAIPÚ\"  6.800770 ###\n",
            "   54.         \"PUENTE_ALTO\"  6.505577 ##\n",
            "   55.            \"end_time\"  5.959464 #\n",
            "   56.          \"start_time\"  5.297205 \n",
            "\n",
            "Variable Importance: NUM_AS_ROOT:\n",
            "    1.        \"LAS_CONDES\" 44.000000 ################\n",
            "    2.            \"MAIPÚ\" 41.000000 ##############\n",
            "    3.       \"PUENTE_ALTO\" 40.000000 ##############\n",
            "    4.          \"SANTIAGO\" 25.000000 ########\n",
            "    5.            \"COLINA\" 24.000000 ########\n",
            "    6.         \"MELIPILLA\" 24.000000 ########\n",
            "    7.        \"LA_FLORIDA\" 21.000000 #######\n",
            "    8.      \"SAN_BERNARDO\" 17.000000 #####\n",
            "    9.       \"PEÑALOLÉN\" 13.000000 ####\n",
            "   10.           \"ÑUÑOA\" 11.000000 ###\n",
            "   11.       \"PROVIDENCIA\"  8.000000 ##\n",
            "   12.          \"PUDAHUEL\"  7.000000 ##\n",
            "   13.      \"LO_BARNECHEA\"  6.000000 #\n",
            "   14.          \"LA_REINA\"  4.000000 #\n",
            "   15.          \"RECOLETA\"  3.000000 \n",
            "   16. \"ESTACIÓN_CENTRAL\"  2.000000 \n",
            "   17.         \"PEÑAFLOR\"  2.000000 \n",
            "   18.         \"QUILICURA\"  2.000000 \n",
            "   19.          \"VITACURA\"  2.000000 \n",
            "   20.         \"EL_BOSQUE\"  1.000000 \n",
            "   21.             \"PAINE\"  1.000000 \n",
            "   22.     \"QUINTA_NORMAL\"  1.000000 \n",
            "   23.             \"RENCA\"  1.000000 \n",
            "\n",
            "Variable Importance: NUM_NODES:\n",
            "    1.        \"start_time\" 160068.000000 ################\n",
            "    2.          \"end_time\" 152870.000000 ###############\n",
            "    3.       \"PUENTE_ALTO\" 288.000000 \n",
            "    4.            \"MAIPÚ\" 286.000000 \n",
            "    5.          \"SANTIAGO\" 282.000000 \n",
            "    6.        \"LAS_CONDES\" 277.000000 \n",
            "    7.        \"LA_FLORIDA\" 268.000000 \n",
            "    8.      \"SAN_BERNARDO\" 261.000000 \n",
            "    9.            \"COLINA\" 260.000000 \n",
            "   10.       \"PEÑALOLÉN\" 260.000000 \n",
            "   11.         \"MELIPILLA\" 259.000000 \n",
            "   12.      \"LO_BARNECHEA\" 233.000000 \n",
            "   13.       \"PROVIDENCIA\" 227.000000 \n",
            "   14.           \"ÑUÑOA\" 217.000000 \n",
            "   15.          \"PUDAHUEL\" 216.000000 \n",
            "   16.         \"QUILICURA\" 161.000000 \n",
            "   17.          \"LA_REINA\" 155.000000 \n",
            "   18.          \"VITACURA\" 155.000000 \n",
            "   19. \"ESTACIÓN_CENTRAL\" 130.000000 \n",
            "   20.          \"RECOLETA\" 105.000000 \n",
            "   21.     \"QUINTA_NORMAL\" 92.000000 \n",
            "   22.             \"PAINE\" 85.000000 \n",
            "   23.        \"HUECHURABA\" 77.000000 \n",
            "   24.             \"RENCA\" 63.000000 \n",
            "   25.             \"MACUL\" 37.000000 \n",
            "   26.         \"PEÑAFLOR\" 22.000000 \n",
            "   27.         \"EL_BOSQUE\" 21.000000 \n",
            "   28.              \"BUIN\" 14.000000 \n",
            "   29.        \"SAN_MIGUEL\" 13.000000 \n",
            "   30.        \"LA_PINTANA\" 12.000000 \n",
            "   31.       \"CERRO_NAVIA\" 11.000000 \n",
            "   32.         \"CONCHALÍ\"  4.000000 \n",
            "   33.             \"LAMPA\"  3.000000 \n",
            "   34.     \"PADRE_HURTADO\"  3.000000 \n",
            "   35.         \"CURACAVÍ\"  1.000000 \n",
            "   36.       \"LA_CISTERNA\"  1.000000 \n",
            "   37.        \"SAN_RAMÓN\"  1.000000 \n",
            "\n",
            "Variable Importance: SUM_SCORE:\n",
            "    1.       \"PUENTE_ALTO\" 1730471.347954 ################\n",
            "    2.            \"MAIPÚ\" 1687187.628596 ###############\n",
            "    3.        \"LAS_CONDES\" 1640300.792586 ###############\n",
            "    4.          \"SANTIAGO\" 1603674.398833 ##############\n",
            "    5.        \"start_time\" 1329750.916754 ############\n",
            "    6.          \"end_time\" 1146621.144328 ##########\n",
            "    7.        \"LA_FLORIDA\" 1024345.329234 #########\n",
            "    8.            \"COLINA\" 1000675.446116 #########\n",
            "    9.       \"PEÑALOLÉN\" 996238.476679 #########\n",
            "   10.      \"SAN_BERNARDO\" 975083.309422 #########\n",
            "   11.         \"MELIPILLA\" 964580.620453 ########\n",
            "   12.      \"LO_BARNECHEA\" 784138.449468 #######\n",
            "   13.       \"PROVIDENCIA\" 735853.826716 ######\n",
            "   14.           \"ÑUÑOA\" 682571.993920 ######\n",
            "   15.          \"PUDAHUEL\" 645963.244429 #####\n",
            "   16.         \"QUILICURA\" 437151.799231 ####\n",
            "   17.          \"VITACURA\" 413562.310885 ###\n",
            "   18.          \"LA_REINA\" 390908.901472 ###\n",
            "   19. \"ESTACIÓN_CENTRAL\" 306983.484889 ##\n",
            "   20.          \"RECOLETA\" 242025.336086 ##\n",
            "   21.     \"QUINTA_NORMAL\" 200894.162862 #\n",
            "   22.             \"PAINE\" 185716.829891 #\n",
            "   23.        \"HUECHURABA\" 168974.541567 #\n",
            "   24.             \"RENCA\" 132797.595796 #\n",
            "   25.             \"MACUL\" 75733.531103 \n",
            "   26.         \"PEÑAFLOR\" 43417.357334 \n",
            "   27.         \"EL_BOSQUE\" 40358.669355 \n",
            "   28.              \"BUIN\" 28017.469682 \n",
            "   29.        \"SAN_MIGUEL\" 24838.724099 \n",
            "   30.        \"LA_PINTANA\" 23048.386653 \n",
            "   31.       \"CERRO_NAVIA\" 21156.473956 \n",
            "   32.         \"CONCHALÍ\" 6986.394019 \n",
            "   33.             \"LAMPA\" 5465.840351 \n",
            "   34.     \"PADRE_HURTADO\" 5139.419010 \n",
            "   35.         \"CURACAVÍ\" 1594.485856 \n",
            "   36.       \"LA_CISTERNA\" 1508.116927 \n",
            "   37.        \"SAN_RAMÓN\" 1320.557544 \n",
            "\n",
            "\n",
            "\n",
            "Winner take all: true\n",
            "Out-of-bag evaluation: accuracy:0.592133 logloss:8.72214\n",
            "Number of trees: 300\n",
            "Total number of nodes: 635176\n",
            "\n",
            "Number of nodes by tree:\n",
            "Count: 300 Average: 2117.25 StdDev: 191.186\n",
            "Min: 1519 Max: 2509 Ignored: 0\n",
            "----------------------------------------------\n",
            "[ 1519, 1568)  2   0.67%   0.67% #\n",
            "[ 1568, 1618)  0   0.00%   0.67%\n",
            "[ 1618, 1667)  0   0.00%   0.67%\n",
            "[ 1667, 1717)  3   1.00%   1.67% #\n",
            "[ 1717, 1766) 10   3.33%   5.00% ###\n",
            "[ 1766, 1816)  5   1.67%   6.67% #\n",
            "[ 1816, 1865) 12   4.00%  10.67% ###\n",
            "[ 1865, 1915) 13   4.33%  15.00% ####\n",
            "[ 1915, 1964) 18   6.00%  21.00% #####\n",
            "[ 1964, 2014) 26   8.67%  29.67% #######\n",
            "[ 2014, 2064) 22   7.33%  37.00% ######\n",
            "[ 2064, 2113) 33  11.00%  48.00% #########\n",
            "[ 2113, 2163) 27   9.00%  57.00% ########\n",
            "[ 2163, 2212) 35  11.67%  68.67% ##########\n",
            "[ 2212, 2262) 23   7.67%  76.33% #######\n",
            "[ 2262, 2311) 26   8.67%  85.00% #######\n",
            "[ 2311, 2361) 10   3.33%  88.33% ###\n",
            "[ 2361, 2410) 19   6.33%  94.67% #####\n",
            "[ 2410, 2460)  8   2.67%  97.33% ##\n",
            "[ 2460, 2509]  8   2.67% 100.00% ##\n",
            "\n",
            "Depth by leafs:\n",
            "Count: 317738 Average: 12.1697 StdDev: 2.38837\n",
            "Min: 3 Max: 15 Ignored: 0\n",
            "----------------------------------------------\n",
            "[  3,  4)    16   0.01%   0.01%\n",
            "[  4,  5)    97   0.03%   0.04%\n",
            "[  5,  6)   644   0.20%   0.24%\n",
            "[  6,  7)  2508   0.79%   1.03%\n",
            "[  7,  8)  7125   2.24%   3.27% #\n",
            "[  8,  9) 14967   4.71%   7.98% ##\n",
            "[  9, 10) 24669   7.76%  15.74% ###\n",
            "[ 10, 11) 32760  10.31%  26.05% ####\n",
            "[ 11, 12) 38652  12.16%  38.22% #####\n",
            "[ 12, 13) 39927  12.57%  50.79% #####\n",
            "[ 13, 14) 40461  12.73%  63.52% #####\n",
            "[ 14, 15) 40140  12.63%  76.15% #####\n",
            "[ 15, 15] 75772  23.85% 100.00% ##########\n",
            "\n",
            "Number of training obs by leaf:\n",
            "Count: 317738 Average: 35.4065 StdDev: 534.606\n",
            "Min: 5 Max: 20922 Ignored: 0\n",
            "----------------------------------------------\n",
            "[     5,  1050) 317298  99.86%  99.86% ##########\n",
            "[  1050,  2096)    116   0.04%  99.90%\n",
            "[  2096,  3142)     24   0.01%  99.91%\n",
            "[  3142,  4188)      0   0.00%  99.91%\n",
            "[  4188,  5234)      0   0.00%  99.91%\n",
            "[  5234,  6280)      0   0.00%  99.91%\n",
            "[  6280,  7326)      0   0.00%  99.91%\n",
            "[  7326,  8372)      0   0.00%  99.91%\n",
            "[  8372,  9418)      0   0.00%  99.91%\n",
            "[  9418, 10464)      0   0.00%  99.91%\n",
            "[ 10464, 11509)      0   0.00%  99.91%\n",
            "[ 11509, 12555)      0   0.00%  99.91%\n",
            "[ 12555, 13601)      0   0.00%  99.91%\n",
            "[ 13601, 14647)      0   0.00%  99.91%\n",
            "[ 14647, 15693)      0   0.00%  99.91%\n",
            "[ 15693, 16739)     84   0.03%  99.93%\n",
            "[ 16739, 17785)    136   0.04%  99.97%\n",
            "[ 17785, 18831)     69   0.02% 100.00%\n",
            "[ 18831, 19877)      9   0.00% 100.00%\n",
            "[ 19877, 20922]      2   0.00% 100.00%\n",
            "\n",
            "Attribute in nodes:\n",
            "\t160068 : start_time [NUMERICAL]\n",
            "\t152870 : end_time [NUMERICAL]\n",
            "\t288 : PUENTE_ALTO [NUMERICAL]\n",
            "\t286 : MAIPÚ [NUMERICAL]\n",
            "\t282 : SANTIAGO [NUMERICAL]\n",
            "\t277 : LAS_CONDES [NUMERICAL]\n",
            "\t268 : LA_FLORIDA [NUMERICAL]\n",
            "\t261 : SAN_BERNARDO [NUMERICAL]\n",
            "\t260 : PEÑALOLÉN [NUMERICAL]\n",
            "\t260 : COLINA [NUMERICAL]\n",
            "\t259 : MELIPILLA [NUMERICAL]\n",
            "\t233 : LO_BARNECHEA [NUMERICAL]\n",
            "\t227 : PROVIDENCIA [NUMERICAL]\n",
            "\t217 : ÑUÑOA [NUMERICAL]\n",
            "\t216 : PUDAHUEL [NUMERICAL]\n",
            "\t161 : QUILICURA [NUMERICAL]\n",
            "\t155 : VITACURA [NUMERICAL]\n",
            "\t155 : LA_REINA [NUMERICAL]\n",
            "\t130 : ESTACIÓN_CENTRAL [NUMERICAL]\n",
            "\t105 : RECOLETA [NUMERICAL]\n",
            "\t92 : QUINTA_NORMAL [NUMERICAL]\n",
            "\t85 : PAINE [NUMERICAL]\n",
            "\t77 : HUECHURABA [NUMERICAL]\n",
            "\t63 : RENCA [NUMERICAL]\n",
            "\t37 : MACUL [NUMERICAL]\n",
            "\t22 : PEÑAFLOR [NUMERICAL]\n",
            "\t21 : EL_BOSQUE [NUMERICAL]\n",
            "\t14 : BUIN [NUMERICAL]\n",
            "\t13 : SAN_MIGUEL [NUMERICAL]\n",
            "\t12 : LA_PINTANA [NUMERICAL]\n",
            "\t11 : CERRO_NAVIA [NUMERICAL]\n",
            "\t4 : CONCHALÍ [NUMERICAL]\n",
            "\t3 : PADRE_HURTADO [NUMERICAL]\n",
            "\t3 : LAMPA [NUMERICAL]\n",
            "\t1 : SAN_RAMÓN [NUMERICAL]\n",
            "\t1 : LA_CISTERNA [NUMERICAL]\n",
            "\t1 : CURACAVÍ [NUMERICAL]\n",
            "\n",
            "Attribute in nodes with depth <= 0:\n",
            "\t44 : LAS_CONDES [NUMERICAL]\n",
            "\t41 : MAIPÚ [NUMERICAL]\n",
            "\t40 : PUENTE_ALTO [NUMERICAL]\n",
            "\t25 : SANTIAGO [NUMERICAL]\n",
            "\t24 : MELIPILLA [NUMERICAL]\n",
            "\t24 : COLINA [NUMERICAL]\n",
            "\t21 : LA_FLORIDA [NUMERICAL]\n",
            "\t17 : SAN_BERNARDO [NUMERICAL]\n",
            "\t13 : PEÑALOLÉN [NUMERICAL]\n",
            "\t11 : ÑUÑOA [NUMERICAL]\n",
            "\t8 : PROVIDENCIA [NUMERICAL]\n",
            "\t7 : PUDAHUEL [NUMERICAL]\n",
            "\t6 : LO_BARNECHEA [NUMERICAL]\n",
            "\t4 : LA_REINA [NUMERICAL]\n",
            "\t3 : RECOLETA [NUMERICAL]\n",
            "\t2 : VITACURA [NUMERICAL]\n",
            "\t2 : QUILICURA [NUMERICAL]\n",
            "\t2 : PEÑAFLOR [NUMERICAL]\n",
            "\t2 : ESTACIÓN_CENTRAL [NUMERICAL]\n",
            "\t1 : RENCA [NUMERICAL]\n",
            "\t1 : QUINTA_NORMAL [NUMERICAL]\n",
            "\t1 : PAINE [NUMERICAL]\n",
            "\t1 : EL_BOSQUE [NUMERICAL]\n",
            "\n",
            "Attribute in nodes with depth <= 1:\n",
            "\t184 : start_time [NUMERICAL]\n",
            "\t116 : end_time [NUMERICAL]\n",
            "\t94 : PUENTE_ALTO [NUMERICAL]\n",
            "\t78 : MAIPÚ [NUMERICAL]\n",
            "\t71 : LAS_CONDES [NUMERICAL]\n",
            "\t59 : SANTIAGO [NUMERICAL]\n",
            "\t45 : COLINA [NUMERICAL]\n",
            "\t44 : SAN_BERNARDO [NUMERICAL]\n",
            "\t37 : LA_FLORIDA [NUMERICAL]\n",
            "\t34 : MELIPILLA [NUMERICAL]\n",
            "\t32 : PEÑALOLÉN [NUMERICAL]\n",
            "\t18 : PUDAHUEL [NUMERICAL]\n",
            "\t16 : ÑUÑOA [NUMERICAL]\n",
            "\t16 : PROVIDENCIA [NUMERICAL]\n",
            "\t14 : LO_BARNECHEA [NUMERICAL]\n",
            "\t8 : VITACURA [NUMERICAL]\n",
            "\t6 : LA_REINA [NUMERICAL]\n",
            "\t5 : RECOLETA [NUMERICAL]\n",
            "\t5 : QUINTA_NORMAL [NUMERICAL]\n",
            "\t4 : QUILICURA [NUMERICAL]\n",
            "\t3 : RENCA [NUMERICAL]\n",
            "\t2 : PEÑAFLOR [NUMERICAL]\n",
            "\t2 : PAINE [NUMERICAL]\n",
            "\t2 : HUECHURABA [NUMERICAL]\n",
            "\t2 : ESTACIÓN_CENTRAL [NUMERICAL]\n",
            "\t1 : SAN_MIGUEL [NUMERICAL]\n",
            "\t1 : MACUL [NUMERICAL]\n",
            "\t1 : EL_BOSQUE [NUMERICAL]\n",
            "\n",
            "Attribute in nodes with depth <= 2:\n",
            "\t746 : start_time [NUMERICAL]\n",
            "\t454 : end_time [NUMERICAL]\n",
            "\t118 : PUENTE_ALTO [NUMERICAL]\n",
            "\t105 : MAIPÚ [NUMERICAL]\n",
            "\t102 : LAS_CONDES [NUMERICAL]\n",
            "\t97 : SANTIAGO [NUMERICAL]\n",
            "\t70 : COLINA [NUMERICAL]\n",
            "\t67 : SAN_BERNARDO [NUMERICAL]\n",
            "\t59 : LA_FLORIDA [NUMERICAL]\n",
            "\t53 : PEÑALOLÉN [NUMERICAL]\n",
            "\t52 : MELIPILLA [NUMERICAL]\n",
            "\t26 : ÑUÑOA [NUMERICAL]\n",
            "\t26 : PUDAHUEL [NUMERICAL]\n",
            "\t26 : PROVIDENCIA [NUMERICAL]\n",
            "\t24 : LO_BARNECHEA [NUMERICAL]\n",
            "\t13 : QUILICURA [NUMERICAL]\n",
            "\t10 : VITACURA [NUMERICAL]\n",
            "\t10 : RECOLETA [NUMERICAL]\n",
            "\t8 : LA_REINA [NUMERICAL]\n",
            "\t7 : QUINTA_NORMAL [NUMERICAL]\n",
            "\t6 : ESTACIÓN_CENTRAL [NUMERICAL]\n",
            "\t5 : RENCA [NUMERICAL]\n",
            "\t5 : PAINE [NUMERICAL]\n",
            "\t5 : HUECHURABA [NUMERICAL]\n",
            "\t3 : PEÑAFLOR [NUMERICAL]\n",
            "\t1 : SAN_MIGUEL [NUMERICAL]\n",
            "\t1 : MACUL [NUMERICAL]\n",
            "\t1 : EL_BOSQUE [NUMERICAL]\n",
            "\n",
            "Attribute in nodes with depth <= 3:\n",
            "\t1984 : start_time [NUMERICAL]\n",
            "\t1300 : end_time [NUMERICAL]\n",
            "\t150 : PUENTE_ALTO [NUMERICAL]\n",
            "\t142 : MAIPÚ [NUMERICAL]\n",
            "\t126 : LAS_CONDES [NUMERICAL]\n",
            "\t122 : SANTIAGO [NUMERICAL]\n",
            "\t92 : COLINA [NUMERICAL]\n",
            "\t88 : SAN_BERNARDO [NUMERICAL]\n",
            "\t77 : MELIPILLA [NUMERICAL]\n",
            "\t73 : PEÑALOLÉN [NUMERICAL]\n",
            "\t72 : LA_FLORIDA [NUMERICAL]\n",
            "\t37 : PUDAHUEL [NUMERICAL]\n",
            "\t37 : PROVIDENCIA [NUMERICAL]\n",
            "\t35 : ÑUÑOA [NUMERICAL]\n",
            "\t34 : LO_BARNECHEA [NUMERICAL]\n",
            "\t18 : QUILICURA [NUMERICAL]\n",
            "\t16 : VITACURA [NUMERICAL]\n",
            "\t16 : RECOLETA [NUMERICAL]\n",
            "\t10 : QUINTA_NORMAL [NUMERICAL]\n",
            "\t10 : LA_REINA [NUMERICAL]\n",
            "\t10 : ESTACIÓN_CENTRAL [NUMERICAL]\n",
            "\t9 : PAINE [NUMERICAL]\n",
            "\t9 : HUECHURABA [NUMERICAL]\n",
            "\t7 : RENCA [NUMERICAL]\n",
            "\t4 : PEÑAFLOR [NUMERICAL]\n",
            "\t3 : EL_BOSQUE [NUMERICAL]\n",
            "\t2 : SAN_MIGUEL [NUMERICAL]\n",
            "\t1 : MACUL [NUMERICAL]\n",
            "\n",
            "Attribute in nodes with depth <= 5:\n",
            "\t8924 : start_time [NUMERICAL]\n",
            "\t7129 : end_time [NUMERICAL]\n",
            "\t194 : PUENTE_ALTO [NUMERICAL]\n",
            "\t193 : MAIPÚ [NUMERICAL]\n",
            "\t174 : SANTIAGO [NUMERICAL]\n",
            "\t170 : LAS_CONDES [NUMERICAL]\n",
            "\t130 : COLINA [NUMERICAL]\n",
            "\t124 : SAN_BERNARDO [NUMERICAL]\n",
            "\t124 : LA_FLORIDA [NUMERICAL]\n",
            "\t122 : MELIPILLA [NUMERICAL]\n",
            "\t109 : PEÑALOLÉN [NUMERICAL]\n",
            "\t69 : LO_BARNECHEA [NUMERICAL]\n",
            "\t64 : PUDAHUEL [NUMERICAL]\n",
            "\t62 : ÑUÑOA [NUMERICAL]\n",
            "\t57 : PROVIDENCIA [NUMERICAL]\n",
            "\t35 : QUILICURA [NUMERICAL]\n",
            "\t34 : VITACURA [NUMERICAL]\n",
            "\t28 : RECOLETA [NUMERICAL]\n",
            "\t20 : ESTACIÓN_CENTRAL [NUMERICAL]\n",
            "\t18 : LA_REINA [NUMERICAL]\n",
            "\t15 : PAINE [NUMERICAL]\n",
            "\t14 : QUINTA_NORMAL [NUMERICAL]\n",
            "\t14 : HUECHURABA [NUMERICAL]\n",
            "\t13 : RENCA [NUMERICAL]\n",
            "\t4 : PEÑAFLOR [NUMERICAL]\n",
            "\t4 : EL_BOSQUE [NUMERICAL]\n",
            "\t3 : SAN_MIGUEL [NUMERICAL]\n",
            "\t2 : MACUL [NUMERICAL]\n",
            "\t2 : BUIN [NUMERICAL]\n",
            "\t1 : LA_CISTERNA [NUMERICAL]\n",
            "\t1 : LAMPA [NUMERICAL]\n",
            "\n",
            "Condition type in nodes:\n",
            "\t317438 : HigherCondition\n",
            "Condition type in nodes with depth <= 0:\n",
            "\t300 : HigherCondition\n",
            "Condition type in nodes with depth <= 1:\n",
            "\t900 : HigherCondition\n",
            "Condition type in nodes with depth <= 2:\n",
            "\t2100 : HigherCondition\n",
            "Condition type in nodes with depth <= 3:\n",
            "\t4484 : HigherCondition\n",
            "Condition type in nodes with depth <= 5:\n",
            "\t17853 : HigherCondition\n",
            "Node format: NOT_SET\n",
            "\n",
            "Training OOB:\n",
            "\ttrees: 1, Out-of-bag evaluation: accuracy:0.461488 logloss:19.4099\n",
            "\ttrees: 11, Out-of-bag evaluation: accuracy:0.510818 logloss:14.8847\n",
            "\ttrees: 21, Out-of-bag evaluation: accuracy:0.536656 logloss:13.5701\n",
            "\ttrees: 31, Out-of-bag evaluation: accuracy:0.55632 logloss:12.5587\n",
            "\ttrees: 41, Out-of-bag evaluation: accuracy:0.558587 logloss:12.0363\n",
            "\ttrees: 51, Out-of-bag evaluation: accuracy:0.57216 logloss:11.5004\n",
            "\ttrees: 61, Out-of-bag evaluation: accuracy:0.580693 logloss:11.2034\n",
            "\ttrees: 71, Out-of-bag evaluation: accuracy:0.5824 logloss:10.7983\n",
            "\ttrees: 81, Out-of-bag evaluation: accuracy:0.58344 logloss:10.6629\n",
            "\ttrees: 91, Out-of-bag evaluation: accuracy:0.59096 logloss:10.5335\n",
            "\ttrees: 101, Out-of-bag evaluation: accuracy:0.592373 logloss:10.4562\n",
            "\ttrees: 111, Out-of-bag evaluation: accuracy:0.593173 logloss:10.1548\n",
            "\ttrees: 121, Out-of-bag evaluation: accuracy:0.594187 logloss:9.96852\n",
            "\ttrees: 131, Out-of-bag evaluation: accuracy:0.592 logloss:9.88859\n",
            "\ttrees: 141, Out-of-bag evaluation: accuracy:0.591387 logloss:9.81745\n",
            "\ttrees: 151, Out-of-bag evaluation: accuracy:0.591893 logloss:9.75834\n",
            "\ttrees: 161, Out-of-bag evaluation: accuracy:0.591867 logloss:9.6203\n",
            "\ttrees: 171, Out-of-bag evaluation: accuracy:0.591867 logloss:9.60172\n",
            "\ttrees: 181, Out-of-bag evaluation: accuracy:0.592427 logloss:9.49067\n",
            "\ttrees: 191, Out-of-bag evaluation: accuracy:0.5924 logloss:9.4583\n",
            "\ttrees: 201, Out-of-bag evaluation: accuracy:0.59216 logloss:9.42735\n",
            "\ttrees: 211, Out-of-bag evaluation: accuracy:0.591253 logloss:9.31885\n",
            "\ttrees: 221, Out-of-bag evaluation: accuracy:0.59152 logloss:9.1481\n",
            "\ttrees: 231, Out-of-bag evaluation: accuracy:0.59112 logloss:9.07432\n",
            "\ttrees: 241, Out-of-bag evaluation: accuracy:0.589947 logloss:8.97888\n",
            "\ttrees: 251, Out-of-bag evaluation: accuracy:0.589733 logloss:8.94196\n",
            "\ttrees: 261, Out-of-bag evaluation: accuracy:0.590107 logloss:8.91984\n",
            "\ttrees: 271, Out-of-bag evaluation: accuracy:0.591333 logloss:8.84908\n",
            "\ttrees: 281, Out-of-bag evaluation: accuracy:0.590827 logloss:8.83261\n",
            "\ttrees: 291, Out-of-bag evaluation: accuracy:0.5916 logloss:8.82065\n",
            "\ttrees: 300, Out-of-bag evaluation: accuracy:0.592133 logloss:8.72214\n",
            "\n"
          ]
        }
      ]
    },
    {
      "cell_type": "code",
      "source": [
        "# Create another model with specified hyper-parameters\n",
        "model2 = tfdf.keras.GradientBoostedTreesModel(\n",
        "    num_trees=200,\n",
        "    growing_strategy=\"BEST_FIRST_GLOBAL\",\n",
        "    max_depth=2,\n",
        "    split_axis=\"SPARSE_OBLIQUE\",\n",
        "    )\n",
        "\n",
        "# Evaluate the model\n",
        "model2.compile(metrics=[\"accuracy\"])\n",
        "model2.fit(train_ds)\n",
        "print(model2.evaluate(test_ds))\n",
        "# >> 0.986851"
      ],
      "metadata": {
        "id": "blcUKk7G9P0E",
        "colab": {
          "base_uri": "https://localhost:8080/"
        },
        "outputId": "5347b26c-dc1b-41dd-e3c6-2c5e531f3cfe"
      },
      "execution_count": null,
      "outputs": [
        {
          "output_type": "stream",
          "name": "stdout",
          "text": [
            "Use /tmp/tmpdzf_n40l as temporary training directory\n",
            "Reading training dataset...\n",
            "Training dataset read in 0:00:01.874623. Found 37500 examples.\n",
            "Training model...\n"
          ]
        }
      ]
    },
    {
      "cell_type": "markdown",
      "source": [
        "# Modelo con una red Neuronal"
      ],
      "metadata": {
        "id": "rpqrW0KnEjST"
      }
    },
    {
      "cell_type": "code",
      "source": [
        "import matplotlib.pyplot as plt\n",
        "import numpy as np \n",
        "\n",
        "import tensorflow as tf\n",
        "import pandas as pd\n",
        "\n",
        "from keras.preprocessing.image import ImageDataGenerator\n",
        "from keras.models import Sequential\n",
        "from keras.layers import Conv2D, Flatten, Dense, Dropout, MaxPool2D\n",
        "\n",
        "from sklearn.model_selection import train_test_split\n",
        " \n",
        "import warnings\n",
        "warnings.filterwarnings('ignore')"
      ],
      "metadata": {
        "id": "EakZZKl8Ei43"
      },
      "execution_count": 10,
      "outputs": []
    },
    {
      "cell_type": "code",
      "source": [
        "from keras.utils import np_utils\n",
        "from sklearn.preprocessing import LabelEncoder\n",
        "from sklearn import preprocessing"
      ],
      "metadata": {
        "id": "TGxCC3N_kA_b"
      },
      "execution_count": 11,
      "outputs": []
    },
    {
      "cell_type": "code",
      "source": [
        "len(columnas) #destination = columnas[0]"
      ],
      "metadata": {
        "colab": {
          "base_uri": "https://localhost:8080/"
        },
        "id": "yuY68vNhIf0e",
        "outputId": "5709b6fb-da2c-4533-aa13-d268d4ea86d3"
      },
      "execution_count": 12,
      "outputs": [
        {
          "output_type": "execute_result",
          "data": {
            "text/plain": [
              "56"
            ]
          },
          "metadata": {},
          "execution_count": 12
        }
      ]
    },
    {
      "cell_type": "code",
      "source": [
        "def encode_text_index(df, name):\n",
        "    le = preprocessing.LabelEncoder()\n",
        "    df[name] = le.fit_transform(df[name])\n",
        "    return le.classes_"
      ],
      "metadata": {
        "id": "fNvlrYmVr9sj"
      },
      "execution_count": 13,
      "outputs": []
    },
    {
      "cell_type": "code",
      "source": [
        "df = pd.read_csv('trips2.csv')\n",
        "df = df.sample(50000)\n",
        "comunas_origin = df['origin']\n",
        "comunas_origin = pd.get_dummies(comunas_origin)\n",
        "df = df.join(comunas_origin)\n",
        "df = df.drop(['Unnamed: 0','lon','lat','origin'], axis=1)\n",
        "\n",
        "le = preprocessing.LabelEncoder()   \n",
        "le.fit(df.destination)\n",
        "df['destination'] = le.transform(df.destination)\n",
        "\n",
        "df_x = df.loc[:, df.columns != 'destination']\n",
        "df_y = df[\"destination\"]\n",
        "\n",
        "#df_x = df_x.values\n",
        "#df_y = df_y.values\n",
        "\n",
        "X_train, X_test, y_train, y_test = train_test_split(df_x, df_y)\n",
        "#X_train=X_train.values.astype(np.float32)\n",
        "#y_train=y_train.values.astype(np.float32)\n",
        "#df_train = pd.DataFrame(X_train, columns=columnas)\n",
        "\n",
        "comunas = encode_text_index(df,'destination')\n",
        "\n",
        "\n",
        "model3 = Sequential()\n",
        "model3.add(Dense(100, input_dim=55))\n",
        "model3.add(Dense(100, activation=\"relu\"))\n",
        "model3.add(Dense(200, activation=\"relu\"))\n",
        "model3.add(Dense(200, activation=\"relu\"))\n",
        "model3.add(Dropout(0.25))\n",
        "model3.add(Dense(200, activation=\"relu\"))\n",
        "model3.add(Dense(100, activation=\"relu\"))\n",
        "model3.add(Dense(53, activation=\"softmax\"))\n",
        "\n",
        "mae = tf.keras.metrics.MeanAbsoluteError()\n",
        "model3.compile(optimizer=tf.keras.optimizers.Adam(learning_rate=0.005),\n",
        "               loss=\"sparse_categorical_crossentropy\",                         \n",
        "               metrics=[\"accuracy\",mae])               \n",
        "\n",
        "model3.summary()                                                  "
      ],
      "metadata": {
        "id": "oLFXg7uWhIQX",
        "colab": {
          "base_uri": "https://localhost:8080/"
        },
        "outputId": "790d115d-371a-48ea-8c2a-e258e58ad866"
      },
      "execution_count": 17,
      "outputs": [
        {
          "output_type": "stream",
          "name": "stdout",
          "text": [
            "Model: \"sequential_1\"\n",
            "_________________________________________________________________\n",
            " Layer (type)                Output Shape              Param #   \n",
            "=================================================================\n",
            " dense_7 (Dense)             (None, 100)               5600      \n",
            "                                                                 \n",
            " dense_8 (Dense)             (None, 100)               10100     \n",
            "                                                                 \n",
            " dense_9 (Dense)             (None, 200)               20200     \n",
            "                                                                 \n",
            " dense_10 (Dense)            (None, 200)               40200     \n",
            "                                                                 \n",
            " dropout_1 (Dropout)         (None, 200)               0         \n",
            "                                                                 \n",
            " dense_11 (Dense)            (None, 200)               40200     \n",
            "                                                                 \n",
            " dense_12 (Dense)            (None, 100)               20100     \n",
            "                                                                 \n",
            " dense_13 (Dense)            (None, 53)                5353      \n",
            "                                                                 \n",
            "=================================================================\n",
            "Total params: 141,753\n",
            "Trainable params: 141,753\n",
            "Non-trainable params: 0\n",
            "_________________________________________________________________\n"
          ]
        }
      ]
    },
    {
      "cell_type": "code",
      "source": [
        "history = model3.fit(X_train, y_train,                                      \n",
        "           validation_data = (X_test,y_test),\n",
        "           epochs=30)                                                    \n"
      ],
      "metadata": {
        "colab": {
          "base_uri": "https://localhost:8080/"
        },
        "id": "B18oIzvKJA77",
        "outputId": "f7d99d9c-9301-4ca3-b929-539f5c3f7c56"
      },
      "execution_count": 25,
      "outputs": [
        {
          "output_type": "stream",
          "name": "stdout",
          "text": [
            "Epoch 1/30\n",
            "1172/1172 [==============================] - 6s 5ms/step - loss: 3.6931 - accuracy: 0.0613 - mean_absolute_error: 28.4655 - val_loss: 3.6989 - val_accuracy: 0.0607 - val_mean_absolute_error: 28.4744\n",
            "Epoch 2/30\n",
            "1172/1172 [==============================] - 4s 4ms/step - loss: 3.6931 - accuracy: 0.0608 - mean_absolute_error: 28.4655 - val_loss: 3.6998 - val_accuracy: 0.0571 - val_mean_absolute_error: 28.4744\n",
            "Epoch 3/30\n",
            "1172/1172 [==============================] - 4s 4ms/step - loss: 3.6930 - accuracy: 0.0605 - mean_absolute_error: 28.4655 - val_loss: 3.6986 - val_accuracy: 0.0607 - val_mean_absolute_error: 28.4744\n",
            "Epoch 4/30\n",
            "1172/1172 [==============================] - 4s 4ms/step - loss: 3.6930 - accuracy: 0.0607 - mean_absolute_error: 28.4655 - val_loss: 3.6985 - val_accuracy: 0.0571 - val_mean_absolute_error: 28.4744\n",
            "Epoch 5/30\n",
            "1172/1172 [==============================] - 4s 4ms/step - loss: 3.6929 - accuracy: 0.0620 - mean_absolute_error: 28.4655 - val_loss: 3.6995 - val_accuracy: 0.0607 - val_mean_absolute_error: 28.4744\n",
            "Epoch 6/30\n",
            "1172/1172 [==============================] - 4s 3ms/step - loss: 3.6929 - accuracy: 0.0623 - mean_absolute_error: 28.4655 - val_loss: 3.6980 - val_accuracy: 0.0607 - val_mean_absolute_error: 28.4744\n",
            "Epoch 7/30\n",
            "1172/1172 [==============================] - 4s 4ms/step - loss: 3.6930 - accuracy: 0.0619 - mean_absolute_error: 28.4655 - val_loss: 3.6990 - val_accuracy: 0.0571 - val_mean_absolute_error: 28.4744\n",
            "Epoch 8/30\n",
            "1172/1172 [==============================] - 4s 3ms/step - loss: 3.6930 - accuracy: 0.0611 - mean_absolute_error: 28.4655 - val_loss: 3.6992 - val_accuracy: 0.0607 - val_mean_absolute_error: 28.4744\n",
            "Epoch 9/30\n",
            "1172/1172 [==============================] - 5s 4ms/step - loss: 3.6930 - accuracy: 0.0616 - mean_absolute_error: 28.4655 - val_loss: 3.6996 - val_accuracy: 0.0607 - val_mean_absolute_error: 28.4744\n",
            "Epoch 10/30\n",
            "1172/1172 [==============================] - 7s 6ms/step - loss: 3.6930 - accuracy: 0.0619 - mean_absolute_error: 28.4655 - val_loss: 3.6991 - val_accuracy: 0.0607 - val_mean_absolute_error: 28.4744\n",
            "Epoch 11/30\n",
            "1172/1172 [==============================] - 4s 4ms/step - loss: 3.6931 - accuracy: 0.0617 - mean_absolute_error: 28.4655 - val_loss: 3.6992 - val_accuracy: 0.0607 - val_mean_absolute_error: 28.4744\n",
            "Epoch 12/30\n",
            "1172/1172 [==============================] - 4s 4ms/step - loss: 3.6931 - accuracy: 0.0612 - mean_absolute_error: 28.4655 - val_loss: 3.6986 - val_accuracy: 0.0607 - val_mean_absolute_error: 28.4744\n",
            "Epoch 13/30\n",
            "1172/1172 [==============================] - 4s 4ms/step - loss: 3.6930 - accuracy: 0.0612 - mean_absolute_error: 28.4655 - val_loss: 3.6983 - val_accuracy: 0.0607 - val_mean_absolute_error: 28.4744\n",
            "Epoch 14/30\n",
            "1172/1172 [==============================] - 4s 3ms/step - loss: 3.6930 - accuracy: 0.0614 - mean_absolute_error: 28.4655 - val_loss: 3.6987 - val_accuracy: 0.0633 - val_mean_absolute_error: 28.4744\n",
            "Epoch 15/30\n",
            "1172/1172 [==============================] - 4s 4ms/step - loss: 3.6931 - accuracy: 0.0611 - mean_absolute_error: 28.4655 - val_loss: 3.6989 - val_accuracy: 0.0571 - val_mean_absolute_error: 28.4744\n",
            "Epoch 16/30\n",
            "1172/1172 [==============================] - 5s 4ms/step - loss: 3.6929 - accuracy: 0.0624 - mean_absolute_error: 28.4655 - val_loss: 3.6993 - val_accuracy: 0.0607 - val_mean_absolute_error: 28.4744\n",
            "Epoch 17/30\n",
            "1172/1172 [==============================] - 4s 4ms/step - loss: 3.6930 - accuracy: 0.0602 - mean_absolute_error: 28.4655 - val_loss: 3.6981 - val_accuracy: 0.0607 - val_mean_absolute_error: 28.4744\n",
            "Epoch 18/30\n",
            "1172/1172 [==============================] - 4s 3ms/step - loss: 3.6930 - accuracy: 0.0616 - mean_absolute_error: 28.4655 - val_loss: 3.6993 - val_accuracy: 0.0571 - val_mean_absolute_error: 28.4744\n",
            "Epoch 19/30\n",
            "1172/1172 [==============================] - 6s 5ms/step - loss: 3.6930 - accuracy: 0.0625 - mean_absolute_error: 28.4655 - val_loss: 3.6994 - val_accuracy: 0.0607 - val_mean_absolute_error: 28.4744\n",
            "Epoch 20/30\n",
            "1172/1172 [==============================] - 4s 4ms/step - loss: 3.6930 - accuracy: 0.0620 - mean_absolute_error: 28.4655 - val_loss: 3.6992 - val_accuracy: 0.0571 - val_mean_absolute_error: 28.4744\n",
            "Epoch 21/30\n",
            "1172/1172 [==============================] - 4s 4ms/step - loss: 3.6932 - accuracy: 0.0604 - mean_absolute_error: 28.4655 - val_loss: 3.6987 - val_accuracy: 0.0571 - val_mean_absolute_error: 28.4744\n",
            "Epoch 22/30\n",
            "1172/1172 [==============================] - 4s 3ms/step - loss: 3.6931 - accuracy: 0.0612 - mean_absolute_error: 28.4655 - val_loss: 3.6986 - val_accuracy: 0.0607 - val_mean_absolute_error: 28.4744\n",
            "Epoch 23/30\n",
            "1172/1172 [==============================] - 4s 4ms/step - loss: 3.6929 - accuracy: 0.0617 - mean_absolute_error: 28.4655 - val_loss: 3.6975 - val_accuracy: 0.0571 - val_mean_absolute_error: 28.4744\n",
            "Epoch 24/30\n",
            "1172/1172 [==============================] - 5s 4ms/step - loss: 3.6929 - accuracy: 0.0615 - mean_absolute_error: 28.4655 - val_loss: 3.6992 - val_accuracy: 0.0571 - val_mean_absolute_error: 28.4744\n",
            "Epoch 25/30\n",
            "1172/1172 [==============================] - 6s 5ms/step - loss: 3.6930 - accuracy: 0.0622 - mean_absolute_error: 28.4655 - val_loss: 3.6997 - val_accuracy: 0.0607 - val_mean_absolute_error: 28.4744\n",
            "Epoch 26/30\n",
            "1172/1172 [==============================] - 4s 4ms/step - loss: 3.6931 - accuracy: 0.0615 - mean_absolute_error: 28.4655 - val_loss: 3.6991 - val_accuracy: 0.0607 - val_mean_absolute_error: 28.4744\n",
            "Epoch 27/30\n",
            "1172/1172 [==============================] - 5s 4ms/step - loss: 3.6927 - accuracy: 0.0610 - mean_absolute_error: 28.4655 - val_loss: 3.6996 - val_accuracy: 0.0571 - val_mean_absolute_error: 28.4744\n",
            "Epoch 28/30\n",
            "1172/1172 [==============================] - 5s 4ms/step - loss: 3.6930 - accuracy: 0.0602 - mean_absolute_error: 28.4655 - val_loss: 3.6981 - val_accuracy: 0.0633 - val_mean_absolute_error: 28.4744\n",
            "Epoch 29/30\n",
            "1172/1172 [==============================] - 4s 3ms/step - loss: 3.6929 - accuracy: 0.0603 - mean_absolute_error: 28.4655 - val_loss: 3.6997 - val_accuracy: 0.0607 - val_mean_absolute_error: 28.4744\n",
            "Epoch 30/30\n",
            "1172/1172 [==============================] - 4s 3ms/step - loss: 3.6930 - accuracy: 0.0603 - mean_absolute_error: 28.4655 - val_loss: 3.6996 - val_accuracy: 0.0607 - val_mean_absolute_error: 28.4744\n"
          ]
        }
      ]
    },
    {
      "cell_type": "code",
      "source": [
        "history.history.keys()"
      ],
      "metadata": {
        "colab": {
          "base_uri": "https://localhost:8080/"
        },
        "id": "lUbcKVMCP82r",
        "outputId": "2dd6ae36-a157-442b-e124-49fc9cec3f7e"
      },
      "execution_count": 26,
      "outputs": [
        {
          "output_type": "execute_result",
          "data": {
            "text/plain": [
              "dict_keys(['loss', 'accuracy', 'mean_absolute_error', 'val_loss', 'val_accuracy', 'val_mean_absolute_error'])"
            ]
          },
          "metadata": {},
          "execution_count": 26
        }
      ]
    },
    {
      "cell_type": "code",
      "source": [
        "acc = history.history['accuracy']\n",
        "test_acc = history.history['val_accuracy']\n",
        "loss = history.history['loss']\n",
        "test_loss = history.history['val_loss']\n",
        "\n",
        "print('train accuracy:'+ str(acc[-1]))\n",
        "print('test accuracy:'+ str(test_acc[-1]))\n",
        "print('train loss:'+ str(loss[-1]))\n",
        "print('test loss:'+ str(test_loss[-1]))"
      ],
      "metadata": {
        "colab": {
          "base_uri": "https://localhost:8080/"
        },
        "id": "Hz03FlIy7sut",
        "outputId": "26933248-c14c-4397-b12d-547d942c72a6"
      },
      "execution_count": 27,
      "outputs": [
        {
          "output_type": "stream",
          "name": "stdout",
          "text": [
            "train accuracy:0.06034666672348976\n",
            "test accuracy:0.06072000041604042\n",
            "train loss:3.6929545402526855\n",
            "test loss:3.6995785236358643\n"
          ]
        }
      ]
    },
    {
      "cell_type": "markdown",
      "source": [
        "## Modelo con XGboost"
      ],
      "metadata": {
        "id": "jL-NSCjmj4qC"
      }
    },
    {
      "cell_type": "code",
      "source": [
        "from sklearn.metrics import accuracy_score, f1_score,hinge_loss\n",
        "import xgboost as xgb"
      ],
      "metadata": {
        "id": "r3gzBzTkwMyn"
      },
      "execution_count": 38,
      "outputs": []
    },
    {
      "cell_type": "code",
      "source": [
        "df = pd.read_csv('trips2.csv')\n",
        "df = df.sample(10000)\n",
        "comunas_origin = df['origin']\n",
        "comunas_origin = pd.get_dummies(comunas_origin)\n",
        "df = df.join(comunas_origin)\n",
        "df = df.drop(['Unnamed: 0','lon','lat','origin'], axis=1)\n",
        "\n",
        "le = preprocessing.LabelEncoder()   \n",
        "le.fit(df.destination)\n",
        "df['destination'] = le.transform(df.destination)\n",
        "\n",
        "df_x = df.loc[:, df.columns != 'destination']\n",
        "df_y = df[\"destination\"]\n",
        "\n",
        "X_train, X_test, y_train, y_test = train_test_split(df_x, df_y)"
      ],
      "metadata": {
        "id": "pV0eEgLuw5TL"
      },
      "execution_count": 39,
      "outputs": []
    },
    {
      "cell_type": "code",
      "source": [
        "from xgboost.sklearn import XGBClassifier\n",
        "#initial model\n",
        "xgb1 = XGBClassifier(learning_rate=0.1,\n",
        "                    n_estimators=1000,\n",
        "                    max_depth=5,\n",
        "                    min_child_weight=1,\n",
        "                    gamma=0,\n",
        "                    subsample=0.8,\n",
        "                    colsample_bytree=0.8,\n",
        "                    objective='multi:softmax',\n",
        "                    nthread=4,\n",
        "                    num_class=53,\n",
        "                    seed=27)"
      ],
      "metadata": {
        "id": "AkGXwiGgxCx0"
      },
      "execution_count": 40,
      "outputs": []
    },
    {
      "cell_type": "code",
      "source": [
        "training_data=X_train\n",
        "epochs=300\n",
        "sk_model = xgb1\n",
        "\n",
        "\n",
        "sk_model.fit(X_train, y_train)\n",
        "\n",
        "train = xgb.DMatrix(X_train, label=y_train)\n",
        "test = xgb.DMatrix(X_test, label=y_test)\n",
        "#val = xgb.DMatrix(X_train['X_val'], label=X_train['Y_val'])\n",
        "params = sk_model.get_xgb_params()\n",
        "metrics = ['mlogloss','merror']\n",
        "params['eval_metric'] = metrics \n",
        "store = {}\n",
        "evallist = [(train,'train'),(test, 'test')] #,\n",
        "xgb_model = xgb.train(params, train, epochs, evallist,evals_result=store,verbose_eval=100)\n",
        "\n",
        "print('XGBoost Accuracy: '+str(accuracy_score(sk_model.predict(X_test), y_test))) \n",
        "print('XGBoost Train Accuracy: '+str(sk_model.score(X_train,y_train))) \n",
        "print(store)"
      ],
      "metadata": {
        "colab": {
          "base_uri": "https://localhost:8080/"
        },
        "id": "ieo0zIUWxioR",
        "outputId": "248aacfd-9c2e-4c8a-c406-888905a91c90"
      },
      "execution_count": 43,
      "outputs": [
        {
          "output_type": "stream",
          "name": "stdout",
          "text": [
            "[0]\ttrain-mlogloss:2.66064\ttrain-merror:0.2384\ttest-mlogloss:2.67141\ttest-merror:0.2448\n",
            "[100]\ttrain-mlogloss:0.513079\ttrain-merror:0.155067\ttest-mlogloss:1.17969\ttest-merror:0.2104\n",
            "[200]\ttrain-mlogloss:0.283274\ttrain-merror:0.0764\ttest-mlogloss:1.25506\ttest-merror:0.2252\n",
            "[299]\ttrain-mlogloss:0.174772\ttrain-merror:0.028133\ttest-mlogloss:1.3208\ttest-merror:0.2292\n",
            "XGBoost Accuracy: 0.7536\n",
            "XGBoost Train Accuracy: 1.0\n",
            "{'train': {'mlogloss': [2.660635, 2.41732, 2.212889, 2.075457, 1.970945, 1.860269, 1.775924, 1.69813, 1.627998, 1.561403, 1.5013, 1.449788, 1.404234, 1.362313, 1.320475, 1.284765, 1.251265, 1.220174, 1.190277, 1.160585, 1.136143, 1.111307, 1.088294, 1.066206, 1.045482, 1.026604, 1.007576, 0.989337, 0.97281, 0.956253, 0.941859, 0.927813, 0.914149, 0.901149, 0.888891, 0.877752, 0.867489, 0.856627, 0.846519, 0.837332, 0.827148, 0.818503, 0.810086, 0.802095, 0.794082, 0.786334, 0.779105, 0.771336, 0.763808, 0.756355, 0.749388, 0.74261, 0.735399, 0.728798, 0.72219, 0.715992, 0.709684, 0.703987, 0.697693, 0.69179, 0.686143, 0.680657, 0.675018, 0.66979, 0.663889, 0.658363, 0.653579, 0.648502, 0.644173, 0.639723, 0.634953, 0.630533, 0.625903, 0.621017, 0.616308, 0.611601, 0.606923, 0.60268, 0.59859, 0.59435, 0.58994, 0.585522, 0.580816, 0.576645, 0.572415, 0.568215, 0.564299, 0.560626, 0.556865, 0.552525, 0.548939, 0.545039, 0.541458, 0.537721, 0.534231, 0.530341, 0.527002, 0.523806, 0.520229, 0.516624, 0.513079, 0.510017, 0.506705, 0.503633, 0.500555, 0.497565, 0.493914, 0.490526, 0.487323, 0.484213, 0.481094, 0.477902, 0.474985, 0.471993, 0.468902, 0.46569, 0.46281, 0.459858, 0.456789, 0.453891, 0.451212, 0.448262, 0.445257, 0.442619, 0.439587, 0.436675, 0.433775, 0.430987, 0.42848, 0.42574, 0.422751, 0.420356, 0.417836, 0.41504, 0.412602, 0.410184, 0.407688, 0.405327, 0.403291, 0.401027, 0.398395, 0.395986, 0.393628, 0.391234, 0.389031, 0.386846, 0.384547, 0.382331, 0.380116, 0.377889, 0.375511, 0.373142, 0.370778, 0.368693, 0.366351, 0.364168, 0.362002, 0.35986, 0.357776, 0.355721, 0.353626, 0.35159, 0.349498, 0.347617, 0.345677, 0.343762, 0.341833, 0.340125, 0.337915, 0.336041, 0.333927, 0.33211, 0.330211, 0.328295, 0.326482, 0.324715, 0.322931, 0.321307, 0.319694, 0.317943, 0.316224, 0.314474, 0.312824, 0.311256, 0.309394, 0.307657, 0.305871, 0.304068, 0.302516, 0.300695, 0.298962, 0.297231, 0.295836, 0.294119, 0.292664, 0.291004, 0.289371, 0.287752, 0.286172, 0.284551, 0.283274, 0.281833, 0.280307, 0.278882, 0.277498, 0.275867, 0.27456, 0.273137, 0.271804, 0.270356, 0.268952, 0.267482, 0.26618, 0.264734, 0.263403, 0.261914, 0.260499, 0.259031, 0.25735, 0.256046, 0.254687, 0.253364, 0.252056, 0.250945, 0.249858, 0.248545, 0.247251, 0.245916, 0.244683, 0.243494, 0.242359, 0.241271, 0.239977, 0.238887, 0.237646, 0.236493, 0.235405, 0.234074, 0.232857, 0.231864, 0.230747, 0.229671, 0.228734, 0.227393, 0.22651, 0.225435, 0.224264, 0.22314, 0.22203, 0.220955, 0.219668, 0.21861, 0.217396, 0.21638, 0.215307, 0.214414, 0.213425, 0.212246, 0.211251, 0.21022, 0.209135, 0.208242, 0.207318, 0.206341, 0.205467, 0.204438, 0.203462, 0.202542, 0.201588, 0.200649, 0.199647, 0.198735, 0.197841, 0.196828, 0.195719, 0.194988, 0.194082, 0.193065, 0.192216, 0.191285, 0.190409, 0.189493, 0.188681, 0.187825, 0.186994, 0.18614, 0.185289, 0.184423, 0.183588, 0.182693, 0.181949, 0.181177, 0.180398, 0.179618, 0.178791, 0.177981, 0.177176, 0.176389, 0.175626, 0.174772], 'merror': [0.2384, 0.2172, 0.202, 0.202267, 0.2024, 0.2024, 0.202533, 0.202267, 0.202533, 0.202267, 0.202, 0.201733, 0.201733, 0.2016, 0.2016, 0.201733, 0.201333, 0.201333, 0.2012, 0.200667, 0.200133, 0.2, 0.199867, 0.2, 0.199867, 0.199467, 0.198933, 0.198533, 0.198133, 0.1976, 0.1976, 0.197467, 0.197333, 0.196933, 0.1968, 0.196933, 0.196667, 0.196533, 0.196267, 0.196267, 0.195733, 0.195733, 0.1952, 0.194933, 0.194533, 0.194, 0.193733, 0.1932, 0.1932, 0.192667, 0.192133, 0.191733, 0.1908, 0.1904, 0.189867, 0.189467, 0.188667, 0.187867, 0.187333, 0.186667, 0.1864, 0.185867, 0.1856, 0.185333, 0.184, 0.183067, 0.1824, 0.181867, 0.180667, 0.180267, 0.179733, 0.179467, 0.178933, 0.1784, 0.177867, 0.1768, 0.175867, 0.175333, 0.174, 0.1732, 0.1728, 0.171733, 0.170667, 0.169733, 0.1692, 0.167467, 0.1672, 0.1664, 0.165467, 0.1648, 0.164133, 0.163333, 0.162267, 0.161867, 0.1608, 0.160267, 0.159333, 0.159067, 0.157467, 0.156133, 0.155067, 0.154267, 0.1536, 0.152933, 0.151733, 0.1504, 0.1496, 0.148533, 0.1468, 0.146933, 0.145867, 0.144533, 0.144267, 0.1432, 0.1428, 0.1412, 0.140667, 0.1396, 0.1388, 0.1376, 0.1372, 0.136133, 0.135067, 0.1344, 0.133067, 0.131467, 0.130533, 0.129467, 0.1288, 0.128667, 0.126667, 0.126267, 0.125067, 0.124933, 0.124, 0.124133, 0.122533, 0.121867, 0.120267, 0.1204, 0.118267, 0.117333, 0.116267, 0.115467, 0.114667, 0.113867, 0.1132, 0.112533, 0.112, 0.111733, 0.110667, 0.11, 0.108533, 0.107867, 0.106933, 0.106, 0.105467, 0.104533, 0.103867, 0.103333, 0.101867, 0.1012, 0.100533, 0.1, 0.0996, 0.0988, 0.098933, 0.098133, 0.097067, 0.0968, 0.0956, 0.095867, 0.0956, 0.094533, 0.094667, 0.093733, 0.0932, 0.092267, 0.091733, 0.090933, 0.089867, 0.0896, 0.088267, 0.0876, 0.0868, 0.086667, 0.0864, 0.0852, 0.0848, 0.0844, 0.083867, 0.0832, 0.082667, 0.081733, 0.0804, 0.079733, 0.079333, 0.0784, 0.077467, 0.0772, 0.0764, 0.076267, 0.075467, 0.073733, 0.073467, 0.073333, 0.072533, 0.071867, 0.071333, 0.07, 0.069867, 0.069067, 0.068533, 0.068, 0.068, 0.067733, 0.0672, 0.065867, 0.065733, 0.0652, 0.0644, 0.064533, 0.064133, 0.064267, 0.0628, 0.0616, 0.061467, 0.060933, 0.060133, 0.06, 0.059067, 0.0588, 0.0588, 0.057867, 0.056933, 0.0568, 0.055733, 0.054533, 0.054133, 0.0532, 0.0532, 0.052533, 0.0524, 0.051067, 0.0508, 0.049733, 0.049333, 0.048667, 0.048133, 0.047867, 0.047467, 0.0468, 0.046267, 0.046, 0.045333, 0.044933, 0.0448, 0.0448, 0.044, 0.043467, 0.043067, 0.0428, 0.041867, 0.040933, 0.0412, 0.0408, 0.0404, 0.040267, 0.039067, 0.0384, 0.0384, 0.0376, 0.037333, 0.037333, 0.0368, 0.036667, 0.036133, 0.035333, 0.034667, 0.034667, 0.0344, 0.033867, 0.0336, 0.0336, 0.032933, 0.0328, 0.0324, 0.0316, 0.0308, 0.0308, 0.0304, 0.03, 0.029867, 0.029733, 0.029467, 0.0292, 0.028933, 0.028667, 0.0284, 0.028133]}, 'test': {'mlogloss': [2.671406, 2.434552, 2.249823, 2.12773, 2.029503, 1.927867, 1.851758, 1.784179, 1.720961, 1.662496, 1.611508, 1.568695, 1.531947, 1.499204, 1.464517, 1.437082, 1.411762, 1.387508, 1.366068, 1.345285, 1.328228, 1.311627, 1.296864, 1.283267, 1.269969, 1.258382, 1.248172, 1.237801, 1.229112, 1.22091, 1.213468, 1.207204, 1.201672, 1.196084, 1.191628, 1.187129, 1.184774, 1.180696, 1.178038, 1.1753, 1.172789, 1.171264, 1.169014, 1.167206, 1.165185, 1.163902, 1.16322, 1.162467, 1.161205, 1.160083, 1.160218, 1.159539, 1.158584, 1.157592, 1.157542, 1.156845, 1.156867, 1.156414, 1.156162, 1.156633, 1.156558, 1.157089, 1.157276, 1.157514, 1.158335, 1.159088, 1.15932, 1.159811, 1.160148, 1.160589, 1.160514, 1.160644, 1.161079, 1.16195, 1.16224, 1.163009, 1.16339, 1.163885, 1.16452, 1.165153, 1.165704, 1.166682, 1.167169, 1.167836, 1.1687, 1.169582, 1.170074, 1.17086, 1.171865, 1.172045, 1.172546, 1.172823, 1.173459, 1.174531, 1.175244, 1.175476, 1.175924, 1.176977, 1.177703, 1.178771, 1.179693, 1.180105, 1.181161, 1.182118, 1.182961, 1.183556, 1.184921, 1.185577, 1.186005, 1.187179, 1.187952, 1.188905, 1.189413, 1.190314, 1.191254, 1.192923, 1.194109, 1.195195, 1.19618, 1.197242, 1.198009, 1.198736, 1.199448, 1.200174, 1.200979, 1.201696, 1.202411, 1.203141, 1.203492, 1.203873, 1.204906, 1.205897, 1.206675, 1.207666, 1.208127, 1.208694, 1.209043, 1.209801, 1.210745, 1.211674, 1.212673, 1.213254, 1.214046, 1.215163, 1.21603, 1.216694, 1.217577, 1.21813, 1.218612, 1.219608, 1.22034, 1.220822, 1.221924, 1.222834, 1.223846, 1.22425, 1.225245, 1.225763, 1.226333, 1.227291, 1.22787, 1.228572, 1.228923, 1.229628, 1.230128, 1.230779, 1.23087, 1.231946, 1.23286, 1.233385, 1.234215, 1.234791, 1.235194, 1.235731, 1.236096, 1.23644, 1.236819, 1.237793, 1.238238, 1.238847, 1.239826, 1.240763, 1.241758, 1.242066, 1.242532, 1.24299, 1.243905, 1.245089, 1.245583, 1.246283, 1.247099, 1.247738, 1.248609, 1.249322, 1.250073, 1.251026, 1.251867, 1.252971, 1.253981, 1.254523, 1.255061, 1.255764, 1.256034, 1.256369, 1.257374, 1.258425, 1.259058, 1.26017, 1.261088, 1.261999, 1.262258, 1.263003, 1.26382, 1.264409, 1.265167, 1.265553, 1.266489, 1.267741, 1.268532, 1.269012, 1.269738, 1.270523, 1.270996, 1.271346, 1.272258, 1.273026, 1.27377, 1.274394, 1.275044, 1.275688, 1.276129, 1.276726, 1.277447, 1.277868, 1.278874, 1.278979, 1.279552, 1.279872, 1.280456, 1.281242, 1.282224, 1.283013, 1.283648, 1.28422, 1.285008, 1.285618, 1.28653, 1.286952, 1.287381, 1.287971, 1.288549, 1.289287, 1.289938, 1.290555, 1.291154, 1.291877, 1.292531, 1.293652, 1.294389, 1.295056, 1.296007, 1.296466, 1.296992, 1.297991, 1.29868, 1.299335, 1.299793, 1.300202, 1.300849, 1.301637, 1.302452, 1.303064, 1.303552, 1.304479, 1.305518, 1.306341, 1.306782, 1.307429, 1.307931, 1.308326, 1.308936, 1.30957, 1.310395, 1.311101, 1.311585, 1.312191, 1.31293, 1.313678, 1.314528, 1.315182, 1.315703, 1.316138, 1.316599, 1.317557, 1.317942, 1.318847, 1.319233, 1.319595, 1.320053, 1.320796], 'merror': [0.2448, 0.2236, 0.2116, 0.2116, 0.2116, 0.2116, 0.2116, 0.2116, 0.2116, 0.2116, 0.2116, 0.2116, 0.2116, 0.2116, 0.2116, 0.2116, 0.2112, 0.2112, 0.2112, 0.2116, 0.2108, 0.21, 0.21, 0.2104, 0.2104, 0.21, 0.21, 0.2108, 0.2104, 0.2088, 0.2084, 0.2084, 0.2084, 0.2084, 0.2084, 0.2084, 0.2084, 0.2084, 0.2084, 0.2084, 0.2084, 0.2084, 0.2084, 0.2084, 0.2084, 0.2084, 0.2084, 0.208, 0.208, 0.208, 0.208, 0.208, 0.208, 0.208, 0.208, 0.2084, 0.2088, 0.2092, 0.2088, 0.208, 0.2076, 0.2076, 0.2076, 0.208, 0.2076, 0.2076, 0.2076, 0.2084, 0.2084, 0.2084, 0.2084, 0.2084, 0.2084, 0.2084, 0.2084, 0.2084, 0.208, 0.208, 0.208, 0.2084, 0.2084, 0.2084, 0.2084, 0.2084, 0.2088, 0.2084, 0.2088, 0.2096, 0.2096, 0.2104, 0.21, 0.21, 0.2096, 0.2096, 0.2096, 0.2096, 0.21, 0.2104, 0.2108, 0.2104, 0.2104, 0.2112, 0.2112, 0.2116, 0.2112, 0.2108, 0.212, 0.2116, 0.212, 0.2124, 0.2124, 0.212, 0.212, 0.2124, 0.212, 0.2124, 0.2132, 0.2136, 0.2136, 0.2144, 0.2148, 0.2152, 0.214, 0.2144, 0.2144, 0.2144, 0.2144, 0.216, 0.2164, 0.2164, 0.2164, 0.216, 0.2164, 0.2172, 0.2168, 0.2172, 0.2176, 0.2168, 0.2168, 0.2172, 0.2176, 0.2188, 0.2184, 0.2196, 0.2192, 0.2188, 0.22, 0.2196, 0.2192, 0.2196, 0.22, 0.22, 0.22, 0.2196, 0.2196, 0.22, 0.22, 0.22, 0.22, 0.22, 0.2196, 0.2192, 0.2192, 0.2196, 0.2192, 0.2196, 0.2188, 0.2192, 0.22, 0.2192, 0.218, 0.22, 0.2188, 0.2196, 0.22, 0.2204, 0.22, 0.2204, 0.22, 0.2204, 0.2208, 0.2212, 0.2216, 0.2208, 0.2216, 0.222, 0.2228, 0.2236, 0.2228, 0.2228, 0.2232, 0.2236, 0.2236, 0.2236, 0.2236, 0.224, 0.224, 0.2244, 0.2252, 0.2248, 0.2252, 0.2256, 0.2248, 0.2244, 0.2244, 0.2244, 0.2244, 0.2248, 0.2248, 0.2252, 0.2244, 0.2252, 0.2244, 0.2256, 0.2256, 0.2252, 0.226, 0.2268, 0.2264, 0.2264, 0.226, 0.2252, 0.2256, 0.226, 0.2256, 0.2252, 0.2248, 0.2252, 0.2252, 0.2252, 0.2248, 0.2248, 0.2252, 0.2248, 0.2256, 0.2264, 0.226, 0.226, 0.2268, 0.2268, 0.2268, 0.2272, 0.2264, 0.2272, 0.2268, 0.2268, 0.2268, 0.2268, 0.2268, 0.2268, 0.2268, 0.2268, 0.2272, 0.2272, 0.2268, 0.2264, 0.2272, 0.2272, 0.2272, 0.2268, 0.2264, 0.2264, 0.226, 0.2268, 0.2272, 0.2272, 0.2272, 0.2276, 0.2276, 0.2272, 0.2272, 0.2268, 0.2268, 0.2272, 0.228, 0.228, 0.228, 0.2276, 0.2288, 0.228, 0.2284, 0.2284, 0.228, 0.2284, 0.2284, 0.2284, 0.2284, 0.2284, 0.2288, 0.2292, 0.2288, 0.2292, 0.2288, 0.2292, 0.2288, 0.2292, 0.2288, 0.2284, 0.2296, 0.2292]}}\n"
          ]
        }
      ]
    },
    {
      "cell_type": "code",
      "source": [
        "print('XGBoost Train Accuracy: '+str(sk_model.score(X_train,y_train))) "
      ],
      "metadata": {
        "colab": {
          "base_uri": "https://localhost:8080/"
        },
        "id": "-WZKcn-UcU42",
        "outputId": "b24fc6b3-99ee-49c3-c2fb-7ff37911a052"
      },
      "execution_count": 42,
      "outputs": [
        {
          "output_type": "stream",
          "name": "stdout",
          "text": [
            "XGBoost Train Accuracy: 1.0\n"
          ]
        }
      ]
    },
    {
      "cell_type": "code",
      "source": [],
      "metadata": {
        "id": "Yr-ONweagnQ6"
      },
      "execution_count": null,
      "outputs": []
    }
  ]
}