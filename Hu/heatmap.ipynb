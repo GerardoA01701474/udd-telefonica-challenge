{
 "cells": [
  {
   "cell_type": "code",
   "execution_count": 2,
   "metadata": {},
   "outputs": [],
   "source": [
    "import pandas as pd\n",
    "import numpy as np\n",
    "import matplotlib.pyplot as plt\n",
    "import seaborn as sns\n",
    "import plotly.express as px"
   ]
  },
  {
   "cell_type": "code",
   "execution_count": 4,
   "metadata": {},
   "outputs": [
    {
     "data": {
      "text/plain": [
       "{'A': [0, 51, 91, 26, 168, 147, 72],\n",
       " 'B': [238, 0, 85, 66, 255, 5, 17],\n",
       " 'C': [135, 109, 0, 11, 42, 22, 19],\n",
       " 'D': [30, 162, 40, 0, 208, 182, 9],\n",
       " 'E': [252, 210, 49, 185, 0, 57, 216],\n",
       " 'F': [166, 41, 131, 27, 226, 0, 193],\n",
       " 'G': [246, 60, 82, 51, 31, 25, 0]}"
      ]
     },
     "execution_count": 4,
     "metadata": {},
     "output_type": "execute_result"
    }
   ],
   "source": [
    "import random\n",
    "\n",
    "from scipy import rand\n",
    "#prepare the dummy data\n",
    "max_travel_count = 255\n",
    "list_comuna = ['A', 'B','C','D','E','F','G']\n",
    "comuna_size = len(list_comuna)\n",
    "dict_src_dest = {}\n",
    "for coumna_src in list_comuna:\n",
    "    list_travel_count = []\n",
    "    for coumna_dest in list_comuna:\n",
    "        travel_count = 0\n",
    "        if(coumna_src != coumna_dest):\n",
    "            travel_count = random.randint(0, max_travel_count)\n",
    "        \n",
    "        list_travel_count.append(travel_count)\n",
    "\n",
    "    dict_src_dest[coumna_src] = list_travel_count\n",
    "\n",
    "dict_src_dest"
   ]
  },
  {
   "cell_type": "code",
   "execution_count": 5,
   "metadata": {},
   "outputs": [
    {
     "data": {
      "text/html": [
       "<div>\n",
       "<style scoped>\n",
       "    .dataframe tbody tr th:only-of-type {\n",
       "        vertical-align: middle;\n",
       "    }\n",
       "\n",
       "    .dataframe tbody tr th {\n",
       "        vertical-align: top;\n",
       "    }\n",
       "\n",
       "    .dataframe thead th {\n",
       "        text-align: right;\n",
       "    }\n",
       "</style>\n",
       "<table border=\"1\" class=\"dataframe\">\n",
       "  <thead>\n",
       "    <tr style=\"text-align: right;\">\n",
       "      <th></th>\n",
       "      <th>A</th>\n",
       "      <th>B</th>\n",
       "      <th>C</th>\n",
       "      <th>D</th>\n",
       "      <th>E</th>\n",
       "      <th>F</th>\n",
       "      <th>G</th>\n",
       "    </tr>\n",
       "  </thead>\n",
       "  <tbody>\n",
       "    <tr>\n",
       "      <th>A</th>\n",
       "      <td>0</td>\n",
       "      <td>238</td>\n",
       "      <td>135</td>\n",
       "      <td>30</td>\n",
       "      <td>252</td>\n",
       "      <td>166</td>\n",
       "      <td>246</td>\n",
       "    </tr>\n",
       "    <tr>\n",
       "      <th>B</th>\n",
       "      <td>51</td>\n",
       "      <td>0</td>\n",
       "      <td>109</td>\n",
       "      <td>162</td>\n",
       "      <td>210</td>\n",
       "      <td>41</td>\n",
       "      <td>60</td>\n",
       "    </tr>\n",
       "    <tr>\n",
       "      <th>C</th>\n",
       "      <td>91</td>\n",
       "      <td>85</td>\n",
       "      <td>0</td>\n",
       "      <td>40</td>\n",
       "      <td>49</td>\n",
       "      <td>131</td>\n",
       "      <td>82</td>\n",
       "    </tr>\n",
       "    <tr>\n",
       "      <th>D</th>\n",
       "      <td>26</td>\n",
       "      <td>66</td>\n",
       "      <td>11</td>\n",
       "      <td>0</td>\n",
       "      <td>185</td>\n",
       "      <td>27</td>\n",
       "      <td>51</td>\n",
       "    </tr>\n",
       "    <tr>\n",
       "      <th>E</th>\n",
       "      <td>168</td>\n",
       "      <td>255</td>\n",
       "      <td>42</td>\n",
       "      <td>208</td>\n",
       "      <td>0</td>\n",
       "      <td>226</td>\n",
       "      <td>31</td>\n",
       "    </tr>\n",
       "    <tr>\n",
       "      <th>F</th>\n",
       "      <td>147</td>\n",
       "      <td>5</td>\n",
       "      <td>22</td>\n",
       "      <td>182</td>\n",
       "      <td>57</td>\n",
       "      <td>0</td>\n",
       "      <td>25</td>\n",
       "    </tr>\n",
       "    <tr>\n",
       "      <th>G</th>\n",
       "      <td>72</td>\n",
       "      <td>17</td>\n",
       "      <td>19</td>\n",
       "      <td>9</td>\n",
       "      <td>216</td>\n",
       "      <td>193</td>\n",
       "      <td>0</td>\n",
       "    </tr>\n",
       "  </tbody>\n",
       "</table>\n",
       "</div>"
      ],
      "text/plain": [
       "     A    B    C    D    E    F    G\n",
       "A    0  238  135   30  252  166  246\n",
       "B   51    0  109  162  210   41   60\n",
       "C   91   85    0   40   49  131   82\n",
       "D   26   66   11    0  185   27   51\n",
       "E  168  255   42  208    0  226   31\n",
       "F  147    5   22  182   57    0   25\n",
       "G   72   17   19    9  216  193    0"
      ]
     },
     "execution_count": 5,
     "metadata": {},
     "output_type": "execute_result"
    }
   ],
   "source": [
    "#X is From, Y is To\n",
    "df = pd.DataFrame(dict_src_dest, index=list_comuna)\n",
    "df"
   ]
  },
  {
   "cell_type": "code",
   "execution_count": 6,
   "metadata": {},
   "outputs": [
    {
     "data": {
      "text/plain": [
       "<AxesSubplot:>"
      ]
     },
     "execution_count": 6,
     "metadata": {},
     "output_type": "execute_result"
    },
    {
     "data": {
      "image/png": "[encoded data removed]",
      "text/plain": [
       "<Figure size 640x480 with 2 Axes>"
      ]
     },
     "metadata": {},
     "output_type": "display_data"
    }
   ],
   "source": [
    "sns.heatmap(df, \n",
    "        xticklabels=df.columns,\n",
    "        yticklabels=df.columns)"
   ]
  },
  {
   "cell_type": "code",
   "execution_count": 8,
   "metadata": {},
   "outputs": [
    {
     "data": {
      "text/plain": [
       "array([[0, 0, 0, 0, 0, 0, 0],\n",
       "       [0, 0, 0, 0, 0, 0, 0],\n",
       "       [0, 0, 0, 0, 0, 0, 0],\n",
       "       [0, 0, 0, 0, 0, 0, 0],\n",
       "       [0, 0, 0, 0, 0, 0, 0],\n",
       "       [0, 0, 0, 0, 0, 0, 0],\n",
       "       [0, 0, 0, 0, 0, 0, 0]])"
      ]
     },
     "execution_count": 8,
     "metadata": {},
     "output_type": "execute_result"
    }
   ],
   "source": [
    "#the way to use np directly\n",
    "mat = np.zeros(shape=(comuna_size, comuna_size), dtype=int)\n",
    "mat"
   ]
  },
  {
   "cell_type": "code",
   "execution_count": 10,
   "metadata": {},
   "outputs": [
    {
     "data": {
      "text/plain": [
       "array([[  0, 238, 135,  30, 252, 166, 246],\n",
       "       [ 51,   0, 109, 162, 210,  41,  60],\n",
       "       [ 91,  85,   0,  40,  49, 131,  82],\n",
       "       [ 26,  66,  11,   0, 185,  27,  51],\n",
       "       [168, 255,  42, 208,   0, 226,  31],\n",
       "       [147,   5,  22, 182,  57,   0,  25],\n",
       "       [ 72,  17,  19,   9, 216, 193,   0]])"
      ]
     },
     "execution_count": 10,
     "metadata": {},
     "output_type": "execute_result"
    }
   ],
   "source": [
    "#set the value to the matrix\n",
    "for comuna_src_index in range(comuna_size):\n",
    "    comuna_src = list_comuna[comuna_src_index]\n",
    "    for comuna_dest_index in range(comuna_size):\n",
    "        mat[comuna_dest_index][comuna_src_index] = dict_src_dest[comuna_src][comuna_dest_index]\n",
    "\n",
    "mat"
   ]
  },
  {
   "cell_type": "code",
   "execution_count": 16,
   "metadata": {},
   "outputs": [
    {
     "data": {
      "image/png": "[encoded data removed]",
      "text/plain": [
       "<Figure size 640x480 with 2 Axes>"
      ]
     },
     "metadata": {},
     "output_type": "display_data"
    }
   ],
   "source": [
    "plt.imshow(mat, cmap='hot', interpolation='nearest')\n",
    "plt.xlabel(\"From Comuna\")\n",
    "plt.ylabel(\"To Comuna\")\n",
    "plt.yticks(np.arange(comuna_size),list_comuna)\n",
    "plt.xticks(np.arange(comuna_size),list_comuna)\n",
    "plt.colorbar()\n",
    "plt.show()"
   ]
  }
 ],
 "metadata": {
  "kernelspec": {
   "display_name": "Python 3.7.7 64-bit",
   "language": "python",
   "name": "python3"
  },
  "language_info": {
   "codemirror_mode": {
    "name": "ipython",
    "version": 3
   },
   "file_extension": ".py",
   "mimetype": "text/x-python",
   "name": "python",
   "nbconvert_exporter": "python",
   "pygments_lexer": "ipython3",
   "version": "3.7.7"
  },
  "orig_nbformat": 4,
  "vscode": {
   "interpreter": {
    "hash": "1f2ac25b4a6d870602abfa5d74e7d6f1ae274ba9e86645830384575c0e5c89f3"
   }
  }
 },
 "nbformat": 4,
 "nbformat_minor": 2
}
